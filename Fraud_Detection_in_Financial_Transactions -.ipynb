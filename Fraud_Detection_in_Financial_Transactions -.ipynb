{
 "cells": [
  {
   "cell_type": "markdown",
   "metadata": {},
   "source": []
  },
  {
   "cell_type": "markdown",
   "metadata": {},
   "source": [
    "<div style=\"text-align: center; color: #003366; font-size: 1.7em; font-weight: bold; border: 2px solid #003366; background-color: #d9faff; border-radius: 25px; padding: 35px; margin-bottom: 10px; position: relative; font-family: 'Lucida Handwriting', cursive;\">\n",
    "    Importing Libraries 📚\n",
    "    <img src=\"https://media3.giphy.com/media/v1.Y2lkPTc5MGI3NjExOG40cDhtdmZpbDhwZjh3Zjl6OWowMmd5cmJwczhvYXExbjNyd3E4ayZlcD12MV9pbnRlcm5hbF9naWZfYnlfaWQmY3Q9Zw/bJ4TVNYNUympPgcpem/giphy.webp\" style=\"width: 200px; height: 100px; position: absolute; top: 10px; right: 100px; border-radius: 50%; object-fit: cover;\">\n",
    "</div>\n",
    "\n",
    "\n"
   ]
  },
  {
   "cell_type": "markdown",
   "metadata": {},
   "source": [
    "# [<u>***`🌟Importing Libraries📚`***</u>]()"
   ]
  },
  {
   "cell_type": "code",
   "execution_count": 1,
   "metadata": {},
   "outputs": [],
   "source": [
    "import numpy as np\n",
    "import pandas as pd\n",
    "\n",
    "import matplotlib.pyplot as plt\n",
    "import matplotlib.gridspec as gridspec\n",
    "import seaborn as sns \n",
    "import plotly.graph_objects as go\n",
    "import plotly.express as px\n",
    "import plotly.subplots as sp\n",
    "\n",
    "import warnings \n",
    "warnings.filterwarnings('ignore')"
   ]
  },
  {
   "cell_type": "code",
   "execution_count": 2,
   "metadata": {},
   "outputs": [
    {
     "data": {
      "text/html": [
       "<div>\n",
       "<style scoped>\n",
       "    .dataframe tbody tr th:only-of-type {\n",
       "        vertical-align: middle;\n",
       "    }\n",
       "\n",
       "    .dataframe tbody tr th {\n",
       "        vertical-align: top;\n",
       "    }\n",
       "\n",
       "    .dataframe thead th {\n",
       "        text-align: right;\n",
       "    }\n",
       "</style>\n",
       "<table border=\"1\" class=\"dataframe\">\n",
       "  <thead>\n",
       "    <tr style=\"text-align: right;\">\n",
       "      <th></th>\n",
       "      <th>step</th>\n",
       "      <th>type</th>\n",
       "      <th>amount</th>\n",
       "      <th>nameOrig</th>\n",
       "      <th>oldbalanceOrg</th>\n",
       "      <th>newbalanceOrig</th>\n",
       "      <th>nameDest</th>\n",
       "      <th>oldbalanceDest</th>\n",
       "      <th>newbalanceDest</th>\n",
       "      <th>isFraud</th>\n",
       "    </tr>\n",
       "  </thead>\n",
       "  <tbody>\n",
       "    <tr>\n",
       "      <th>0</th>\n",
       "      <td>1</td>\n",
       "      <td>PAYMENT</td>\n",
       "      <td>9839.64</td>\n",
       "      <td>C1231006815</td>\n",
       "      <td>170136.00</td>\n",
       "      <td>160296.36</td>\n",
       "      <td>M1979787155</td>\n",
       "      <td>0.00</td>\n",
       "      <td>0.00</td>\n",
       "      <td>0</td>\n",
       "    </tr>\n",
       "    <tr>\n",
       "      <th>1</th>\n",
       "      <td>1</td>\n",
       "      <td>PAYMENT</td>\n",
       "      <td>1864.28</td>\n",
       "      <td>C1666544295</td>\n",
       "      <td>21249.00</td>\n",
       "      <td>19384.72</td>\n",
       "      <td>M2044282225</td>\n",
       "      <td>0.00</td>\n",
       "      <td>0.00</td>\n",
       "      <td>0</td>\n",
       "    </tr>\n",
       "    <tr>\n",
       "      <th>2</th>\n",
       "      <td>1</td>\n",
       "      <td>TRANSFER</td>\n",
       "      <td>181.00</td>\n",
       "      <td>C1305486145</td>\n",
       "      <td>181.00</td>\n",
       "      <td>0.00</td>\n",
       "      <td>C553264065</td>\n",
       "      <td>0.00</td>\n",
       "      <td>0.00</td>\n",
       "      <td>1</td>\n",
       "    </tr>\n",
       "    <tr>\n",
       "      <th>3</th>\n",
       "      <td>1</td>\n",
       "      <td>CASH_OUT</td>\n",
       "      <td>181.00</td>\n",
       "      <td>C840083671</td>\n",
       "      <td>181.00</td>\n",
       "      <td>0.00</td>\n",
       "      <td>C38997010</td>\n",
       "      <td>21182.00</td>\n",
       "      <td>0.00</td>\n",
       "      <td>1</td>\n",
       "    </tr>\n",
       "    <tr>\n",
       "      <th>4</th>\n",
       "      <td>1</td>\n",
       "      <td>PAYMENT</td>\n",
       "      <td>11668.14</td>\n",
       "      <td>C2048537720</td>\n",
       "      <td>41554.00</td>\n",
       "      <td>29885.86</td>\n",
       "      <td>M1230701703</td>\n",
       "      <td>0.00</td>\n",
       "      <td>0.00</td>\n",
       "      <td>0</td>\n",
       "    </tr>\n",
       "    <tr>\n",
       "      <th>...</th>\n",
       "      <td>...</td>\n",
       "      <td>...</td>\n",
       "      <td>...</td>\n",
       "      <td>...</td>\n",
       "      <td>...</td>\n",
       "      <td>...</td>\n",
       "      <td>...</td>\n",
       "      <td>...</td>\n",
       "      <td>...</td>\n",
       "      <td>...</td>\n",
       "    </tr>\n",
       "    <tr>\n",
       "      <th>1048570</th>\n",
       "      <td>95</td>\n",
       "      <td>CASH_OUT</td>\n",
       "      <td>132557.35</td>\n",
       "      <td>C1179511630</td>\n",
       "      <td>479803.00</td>\n",
       "      <td>347245.65</td>\n",
       "      <td>C435674507</td>\n",
       "      <td>484329.37</td>\n",
       "      <td>616886.72</td>\n",
       "      <td>0</td>\n",
       "    </tr>\n",
       "    <tr>\n",
       "      <th>1048571</th>\n",
       "      <td>95</td>\n",
       "      <td>PAYMENT</td>\n",
       "      <td>9917.36</td>\n",
       "      <td>C1956161225</td>\n",
       "      <td>90545.00</td>\n",
       "      <td>80627.64</td>\n",
       "      <td>M668364942</td>\n",
       "      <td>0.00</td>\n",
       "      <td>0.00</td>\n",
       "      <td>0</td>\n",
       "    </tr>\n",
       "    <tr>\n",
       "      <th>1048572</th>\n",
       "      <td>95</td>\n",
       "      <td>PAYMENT</td>\n",
       "      <td>14140.05</td>\n",
       "      <td>C2037964975</td>\n",
       "      <td>20545.00</td>\n",
       "      <td>6404.95</td>\n",
       "      <td>M1355182933</td>\n",
       "      <td>0.00</td>\n",
       "      <td>0.00</td>\n",
       "      <td>0</td>\n",
       "    </tr>\n",
       "    <tr>\n",
       "      <th>1048573</th>\n",
       "      <td>95</td>\n",
       "      <td>PAYMENT</td>\n",
       "      <td>10020.05</td>\n",
       "      <td>C1633237354</td>\n",
       "      <td>90605.00</td>\n",
       "      <td>80584.95</td>\n",
       "      <td>M1964992463</td>\n",
       "      <td>0.00</td>\n",
       "      <td>0.00</td>\n",
       "      <td>0</td>\n",
       "    </tr>\n",
       "    <tr>\n",
       "      <th>1048574</th>\n",
       "      <td>95</td>\n",
       "      <td>PAYMENT</td>\n",
       "      <td>11450.03</td>\n",
       "      <td>C1264356443</td>\n",
       "      <td>80584.95</td>\n",
       "      <td>69134.92</td>\n",
       "      <td>M677577406</td>\n",
       "      <td>0.00</td>\n",
       "      <td>0.00</td>\n",
       "      <td>0</td>\n",
       "    </tr>\n",
       "  </tbody>\n",
       "</table>\n",
       "<p>1048575 rows × 10 columns</p>\n",
       "</div>"
      ],
      "text/plain": [
       "         step      type     amount     nameOrig  oldbalanceOrg  \\\n",
       "0           1   PAYMENT    9839.64  C1231006815      170136.00   \n",
       "1           1   PAYMENT    1864.28  C1666544295       21249.00   \n",
       "2           1  TRANSFER     181.00  C1305486145         181.00   \n",
       "3           1  CASH_OUT     181.00   C840083671         181.00   \n",
       "4           1   PAYMENT   11668.14  C2048537720       41554.00   \n",
       "...       ...       ...        ...          ...            ...   \n",
       "1048570    95  CASH_OUT  132557.35  C1179511630      479803.00   \n",
       "1048571    95   PAYMENT    9917.36  C1956161225       90545.00   \n",
       "1048572    95   PAYMENT   14140.05  C2037964975       20545.00   \n",
       "1048573    95   PAYMENT   10020.05  C1633237354       90605.00   \n",
       "1048574    95   PAYMENT   11450.03  C1264356443       80584.95   \n",
       "\n",
       "         newbalanceOrig     nameDest  oldbalanceDest  newbalanceDest  isFraud  \n",
       "0             160296.36  M1979787155            0.00            0.00        0  \n",
       "1              19384.72  M2044282225            0.00            0.00        0  \n",
       "2                  0.00   C553264065            0.00            0.00        1  \n",
       "3                  0.00    C38997010        21182.00            0.00        1  \n",
       "4              29885.86  M1230701703            0.00            0.00        0  \n",
       "...                 ...          ...             ...             ...      ...  \n",
       "1048570       347245.65   C435674507       484329.37       616886.72        0  \n",
       "1048571        80627.64   M668364942            0.00            0.00        0  \n",
       "1048572         6404.95  M1355182933            0.00            0.00        0  \n",
       "1048573        80584.95  M1964992463            0.00            0.00        0  \n",
       "1048574        69134.92   M677577406            0.00            0.00        0  \n",
       "\n",
       "[1048575 rows x 10 columns]"
      ]
     },
     "execution_count": 2,
     "metadata": {},
     "output_type": "execute_result"
    }
   ],
   "source": [
    "data = pd.read_csv(\"Online Payment Fraud Detection.csv\")\n",
    "# data = data.sample(n=100000, random_state=42)\n",
    "data"
   ]
  },
  {
   "cell_type": "markdown",
   "metadata": {},
   "source": [
    "#"
   ]
  },
  {
   "cell_type": "markdown",
   "metadata": {},
   "source": [
    "<div style=\"text-align: center; color: #003366; font-size: 1.7em; font-weight: bold; border: 2px solid #003366; background-color: #d9faff; border-radius: 25px; padding: 35px; margin-bottom: 10px; position: relative; font-family: 'Lucida Handwriting', cursive;\">\n",
    "    🔍🔍 Exploratory Data Analysis (EDA) 🔎🔎\n",
    "    <img src=\"https://media0.giphy.com/media/v1.Y2lkPTc5MGI3NjExeGxjNzJiejJyZjNob3ZkODF4aXM0a2g4ZnZyeDNnYTJvdGt5aTZzYSZlcD12MV9pbnRlcm5hbF9naWZfYnlfaWQmY3Q9Zw/V4NSR1NG2p0KeJJyr5/giphy.webp\" style=\"width: 200px; height: 100px; position: absolute; top: 10px; right: 50px; border-radius: 50%; object-fit: cover;\">\n",
    "</div>\n"
   ]
  },
  {
   "cell_type": "markdown",
   "metadata": {},
   "source": [
    "# [<u>***`☀️EDA🔎🔎`***</u>]()"
   ]
  },
  {
   "cell_type": "markdown",
   "metadata": {},
   "source": [
    "<div style=\"padding: 15px; border: 2px solid #0077b6; background-color: #f9fcff; border-radius: 12px; font-family: 'Arial', sans-serif; font-size: 0.9em;\">\n",
    "    <div style=\"text-align: center; color: #003d66; font-size: 1.6em; font-weight: bold; font-family: 'Playfair Display', serif; border-bottom: 2px solid #0077b6; padding-bottom: 5px; margin-bottom: 15px;\">\n",
    "        Dataset Description\n",
    "    </div>\n",
    "    <div style=\"text-align: left; color: #003d66; font-size: 1.1em; font-family: 'Georgia', serif;\">\n",
    "        <ul style=\"list-style-type: square; margin-left: 20px;\">\n",
    "            <li><strong>Business Context:</strong></li>\n",
    "            <li><strong></strong>This case requires trainees to develop a model for predicting fraudulent transactions for a financial company and use insights from the model to develop an actionable plan. Data for the case is available in CSV format having 1048575 rows and 10 columns.</li>\n",
    "            <li><strong>1.\tStep:</strong> This represents number of steps taken to perform the whole transaction i.e. 1 step equals 1 transaction.</li>\n",
    "            <li><strong>2.\tType:</strong> Type of online transaction.</li>\n",
    "            <li><strong>3.\tAmount:</strong>  The amount of the transaction.</li>\n",
    "            <li><strong>4.\tNameOrig:</strong>  ID of the Customer starting the transaction.</li>\n",
    "            <li><strong>5.\tOldbalanceOrg:</strong>  States the Balance of Origin account before the transaction initiated.</li>\n",
    "            <li><strong>6.\tNewbalanceOrig:</strong>  States the Balance of Origin account after the transaction performed.</li>\n",
    "            <li><strong>7.\tNameDest:</strong>   ID of the Recipient customer of the transaction.</li>\n",
    "            <li><strong>8.\tOldbalanceDest:</strong>  States the Initial Balance of Recipient account before the transaction credited.</li>\n",
    "            <li><strong>9.\tNewbalanceDest:</strong>  States the New Balance of recipient after the transaction being credited.</li>\n",
    "            <li><strong>10.\tIsFraud:</strong>  ( Target Variable )- Is the transaction identified as Fraud or not.</li>\n",
    "        </ul>\n",
    "    </div>\n",
    "</div>\n"
   ]
  },
  {
   "cell_type": "code",
   "execution_count": 3,
   "metadata": {},
   "outputs": [],
   "source": [
    "# import ydata_profiling \n",
    "# profile_report = ydata_profiling.ProfileReport(data , title=\"Profile Report\" , explorative=True)\n",
    "# profile_report"
   ]
  },
  {
   "cell_type": "code",
   "execution_count": 4,
   "metadata": {},
   "outputs": [],
   "source": [
    "# profile_report.to_file(\"Profile_Report.html\")"
   ]
  },
  {
   "cell_type": "code",
   "execution_count": 5,
   "metadata": {},
   "outputs": [
    {
     "name": "stdout",
     "output_type": "stream",
     "text": [
      "<class 'pandas.core.frame.DataFrame'>\n",
      "RangeIndex: 1048575 entries, 0 to 1048574\n",
      "Data columns (total 10 columns):\n",
      " #   Column          Non-Null Count    Dtype  \n",
      "---  ------          --------------    -----  \n",
      " 0   step            1048575 non-null  int64  \n",
      " 1   type            1048575 non-null  object \n",
      " 2   amount          1048575 non-null  float64\n",
      " 3   nameOrig        1048575 non-null  object \n",
      " 4   oldbalanceOrg   1048575 non-null  float64\n",
      " 5   newbalanceOrig  1048575 non-null  float64\n",
      " 6   nameDest        1048575 non-null  object \n",
      " 7   oldbalanceDest  1048575 non-null  float64\n",
      " 8   newbalanceDest  1048575 non-null  float64\n",
      " 9   isFraud         1048575 non-null  int64  \n",
      "dtypes: float64(5), int64(2), object(3)\n",
      "memory usage: 80.0+ MB\n"
     ]
    }
   ],
   "source": [
    "data.info()"
   ]
  },
  {
   "cell_type": "code",
   "execution_count": 6,
   "metadata": {},
   "outputs": [
    {
     "data": {
      "text/plain": [
       "step              0\n",
       "type              0\n",
       "amount            0\n",
       "nameOrig          0\n",
       "oldbalanceOrg     0\n",
       "newbalanceOrig    0\n",
       "nameDest          0\n",
       "oldbalanceDest    0\n",
       "newbalanceDest    0\n",
       "isFraud           0\n",
       "dtype: int64"
      ]
     },
     "execution_count": 6,
     "metadata": {},
     "output_type": "execute_result"
    }
   ],
   "source": [
    "data.isnull().sum()"
   ]
  },
  {
   "cell_type": "code",
   "execution_count": 7,
   "metadata": {},
   "outputs": [
    {
     "data": {
      "text/plain": [
       "0"
      ]
     },
     "execution_count": 7,
     "metadata": {},
     "output_type": "execute_result"
    }
   ],
   "source": [
    "data.duplicated().sum()"
   ]
  },
  {
   "cell_type": "code",
   "execution_count": 8,
   "metadata": {},
   "outputs": [
    {
     "data": {
      "text/html": [
       "<style type=\"text/css\">\n",
       "#T_f9bae_row0_col0, #T_f9bae_row1_col7, #T_f9bae_row2_col7, #T_f9bae_row3_col7, #T_f9bae_row4_col7, #T_f9bae_row5_col7, #T_f9bae_row6_col0 {\n",
       "  background-color: #008000;\n",
       "  color: #f1f1f1;\n",
       "}\n",
       "#T_f9bae_row0_col1, #T_f9bae_row0_col2, #T_f9bae_row0_col3, #T_f9bae_row0_col4, #T_f9bae_row0_col5, #T_f9bae_row0_col6, #T_f9bae_row0_col7, #T_f9bae_row1_col3, #T_f9bae_row1_col4, #T_f9bae_row2_col3, #T_f9bae_row2_col4, #T_f9bae_row2_col5, #T_f9bae_row2_col6, #T_f9bae_row3_col3, #T_f9bae_row3_col4, #T_f9bae_row3_col5, #T_f9bae_row4_col3, #T_f9bae_row4_col4, #T_f9bae_row4_col5, #T_f9bae_row5_col3, #T_f9bae_row5_col4, #T_f9bae_row6_col1, #T_f9bae_row6_col2, #T_f9bae_row6_col3, #T_f9bae_row6_col4, #T_f9bae_row6_col5, #T_f9bae_row6_col6, #T_f9bae_row6_col7 {\n",
       "  background-color: #ffffff;\n",
       "  color: #000000;\n",
       "}\n",
       "#T_f9bae_row1_col0 {\n",
       "  background-color: #b1d8e5;\n",
       "  color: #000000;\n",
       "}\n",
       "#T_f9bae_row1_col1 {\n",
       "  background-color: #f3f9fb;\n",
       "  color: #000000;\n",
       "}\n",
       "#T_f9bae_row1_col2, #T_f9bae_row2_col0, #T_f9bae_row3_col0, #T_f9bae_row4_col0, #T_f9bae_row5_col0, #T_f9bae_row5_col1, #T_f9bae_row5_col6 {\n",
       "  background-color: #edf6f9;\n",
       "  color: #000000;\n",
       "}\n",
       "#T_f9bae_row1_col5, #T_f9bae_row3_col6, #T_f9bae_row5_col5 {\n",
       "  background-color: #fcfefe;\n",
       "  color: #000000;\n",
       "}\n",
       "#T_f9bae_row1_col6, #T_f9bae_row2_col1, #T_f9bae_row3_col1, #T_f9bae_row4_col1, #T_f9bae_row4_col6 {\n",
       "  background-color: #f0f7fa;\n",
       "  color: #000000;\n",
       "}\n",
       "#T_f9bae_row2_col2, #T_f9bae_row3_col2 {\n",
       "  background-color: #c6e2ec;\n",
       "  color: #000000;\n",
       "}\n",
       "#T_f9bae_row4_col2 {\n",
       "  background-color: #d8ebf2;\n",
       "  color: #000000;\n",
       "}\n",
       "#T_f9bae_row5_col2 {\n",
       "  background-color: #d5eaf1;\n",
       "  color: #000000;\n",
       "}\n",
       "</style>\n",
       "<table id=\"T_f9bae\">\n",
       "  <thead>\n",
       "    <tr>\n",
       "      <th class=\"blank level0\" >&nbsp;</th>\n",
       "      <th id=\"T_f9bae_level0_col0\" class=\"col_heading level0 col0\" >count</th>\n",
       "      <th id=\"T_f9bae_level0_col1\" class=\"col_heading level0 col1\" >mean</th>\n",
       "      <th id=\"T_f9bae_level0_col2\" class=\"col_heading level0 col2\" >std</th>\n",
       "      <th id=\"T_f9bae_level0_col3\" class=\"col_heading level0 col3\" >min</th>\n",
       "      <th id=\"T_f9bae_level0_col4\" class=\"col_heading level0 col4\" >25%</th>\n",
       "      <th id=\"T_f9bae_level0_col5\" class=\"col_heading level0 col5\" >50%</th>\n",
       "      <th id=\"T_f9bae_level0_col6\" class=\"col_heading level0 col6\" >75%</th>\n",
       "      <th id=\"T_f9bae_level0_col7\" class=\"col_heading level0 col7\" >max</th>\n",
       "    </tr>\n",
       "  </thead>\n",
       "  <tbody>\n",
       "    <tr>\n",
       "      <th id=\"T_f9bae_level0_row0\" class=\"row_heading level0 row0\" >step</th>\n",
       "      <td id=\"T_f9bae_row0_col0\" class=\"data row0 col0\" >1048575.000000</td>\n",
       "      <td id=\"T_f9bae_row0_col1\" class=\"data row0 col1\" >26.966174</td>\n",
       "      <td id=\"T_f9bae_row0_col2\" class=\"data row0 col2\" >15.623252</td>\n",
       "      <td id=\"T_f9bae_row0_col3\" class=\"data row0 col3\" >1.000000</td>\n",
       "      <td id=\"T_f9bae_row0_col4\" class=\"data row0 col4\" >15.000000</td>\n",
       "      <td id=\"T_f9bae_row0_col5\" class=\"data row0 col5\" >20.000000</td>\n",
       "      <td id=\"T_f9bae_row0_col6\" class=\"data row0 col6\" >39.000000</td>\n",
       "      <td id=\"T_f9bae_row0_col7\" class=\"data row0 col7\" >95.000000</td>\n",
       "    </tr>\n",
       "    <tr>\n",
       "      <th id=\"T_f9bae_level0_row1\" class=\"row_heading level0 row1\" >amount</th>\n",
       "      <td id=\"T_f9bae_row1_col0\" class=\"data row1 col0\" >1048575.000000</td>\n",
       "      <td id=\"T_f9bae_row1_col1\" class=\"data row1 col1\" >158666.975527</td>\n",
       "      <td id=\"T_f9bae_row1_col2\" class=\"data row1 col2\" >264940.930363</td>\n",
       "      <td id=\"T_f9bae_row1_col3\" class=\"data row1 col3\" >0.100000</td>\n",
       "      <td id=\"T_f9bae_row1_col4\" class=\"data row1 col4\" >12149.065000</td>\n",
       "      <td id=\"T_f9bae_row1_col5\" class=\"data row1 col5\" >76343.330000</td>\n",
       "      <td id=\"T_f9bae_row1_col6\" class=\"data row1 col6\" >213761.890000</td>\n",
       "      <td id=\"T_f9bae_row1_col7\" class=\"data row1 col7\" >10000000.000000</td>\n",
       "    </tr>\n",
       "    <tr>\n",
       "      <th id=\"T_f9bae_level0_row2\" class=\"row_heading level0 row2\" >oldbalanceOrg</th>\n",
       "      <td id=\"T_f9bae_row2_col0\" class=\"data row2 col0\" >1048575.000000</td>\n",
       "      <td id=\"T_f9bae_row2_col1\" class=\"data row2 col1\" >874009.544348</td>\n",
       "      <td id=\"T_f9bae_row2_col2\" class=\"data row2 col2\" >2971750.560051</td>\n",
       "      <td id=\"T_f9bae_row2_col3\" class=\"data row2 col3\" >0.000000</td>\n",
       "      <td id=\"T_f9bae_row2_col4\" class=\"data row2 col4\" >0.000000</td>\n",
       "      <td id=\"T_f9bae_row2_col5\" class=\"data row2 col5\" >16002.000000</td>\n",
       "      <td id=\"T_f9bae_row2_col6\" class=\"data row2 col6\" >136642.020000</td>\n",
       "      <td id=\"T_f9bae_row2_col7\" class=\"data row2 col7\" >38900000.000000</td>\n",
       "    </tr>\n",
       "    <tr>\n",
       "      <th id=\"T_f9bae_level0_row3\" class=\"row_heading level0 row3\" >newbalanceOrig</th>\n",
       "      <td id=\"T_f9bae_row3_col0\" class=\"data row3 col0\" >1048575.000000</td>\n",
       "      <td id=\"T_f9bae_row3_col1\" class=\"data row3 col1\" >893808.898031</td>\n",
       "      <td id=\"T_f9bae_row3_col2\" class=\"data row3 col2\" >3008271.333427</td>\n",
       "      <td id=\"T_f9bae_row3_col3\" class=\"data row3 col3\" >0.000000</td>\n",
       "      <td id=\"T_f9bae_row3_col4\" class=\"data row3 col4\" >0.000000</td>\n",
       "      <td id=\"T_f9bae_row3_col5\" class=\"data row3 col5\" >0.000000</td>\n",
       "      <td id=\"T_f9bae_row3_col6\" class=\"data row3 col6\" >174599.990000</td>\n",
       "      <td id=\"T_f9bae_row3_col7\" class=\"data row3 col7\" >38900000.000000</td>\n",
       "    </tr>\n",
       "    <tr>\n",
       "      <th id=\"T_f9bae_level0_row4\" class=\"row_heading level0 row4\" >oldbalanceDest</th>\n",
       "      <td id=\"T_f9bae_row4_col0\" class=\"data row4 col0\" >1048575.000000</td>\n",
       "      <td id=\"T_f9bae_row4_col1\" class=\"data row4 col1\" >978160.049276</td>\n",
       "      <td id=\"T_f9bae_row4_col2\" class=\"data row4 col2\" >2296780.392481</td>\n",
       "      <td id=\"T_f9bae_row4_col3\" class=\"data row4 col3\" >0.000000</td>\n",
       "      <td id=\"T_f9bae_row4_col4\" class=\"data row4 col4\" >0.000000</td>\n",
       "      <td id=\"T_f9bae_row4_col5\" class=\"data row4 col5\" >126377.210000</td>\n",
       "      <td id=\"T_f9bae_row4_col6\" class=\"data row4 col6\" >915923.475000</td>\n",
       "      <td id=\"T_f9bae_row4_col7\" class=\"data row4 col7\" >42100000.000000</td>\n",
       "    </tr>\n",
       "    <tr>\n",
       "      <th id=\"T_f9bae_level0_row5\" class=\"row_heading level0 row5\" >newbalanceDest</th>\n",
       "      <td id=\"T_f9bae_row5_col0\" class=\"data row5 col0\" >1048575.000000</td>\n",
       "      <td id=\"T_f9bae_row5_col1\" class=\"data row5 col1\" >1114197.968470</td>\n",
       "      <td id=\"T_f9bae_row5_col2\" class=\"data row5 col2\" >2416593.123013</td>\n",
       "      <td id=\"T_f9bae_row5_col3\" class=\"data row5 col3\" >0.000000</td>\n",
       "      <td id=\"T_f9bae_row5_col4\" class=\"data row5 col4\" >0.000000</td>\n",
       "      <td id=\"T_f9bae_row5_col5\" class=\"data row5 col5\" >218260.360000</td>\n",
       "      <td id=\"T_f9bae_row5_col6\" class=\"data row5 col6\" >1149807.510000</td>\n",
       "      <td id=\"T_f9bae_row5_col7\" class=\"data row5 col7\" >42200000.000000</td>\n",
       "    </tr>\n",
       "    <tr>\n",
       "      <th id=\"T_f9bae_level0_row6\" class=\"row_heading level0 row6\" >isFraud</th>\n",
       "      <td id=\"T_f9bae_row6_col0\" class=\"data row6 col0\" >1048575.000000</td>\n",
       "      <td id=\"T_f9bae_row6_col1\" class=\"data row6 col1\" >0.001089</td>\n",
       "      <td id=\"T_f9bae_row6_col2\" class=\"data row6 col2\" >0.032984</td>\n",
       "      <td id=\"T_f9bae_row6_col3\" class=\"data row6 col3\" >0.000000</td>\n",
       "      <td id=\"T_f9bae_row6_col4\" class=\"data row6 col4\" >0.000000</td>\n",
       "      <td id=\"T_f9bae_row6_col5\" class=\"data row6 col5\" >0.000000</td>\n",
       "      <td id=\"T_f9bae_row6_col6\" class=\"data row6 col6\" >0.000000</td>\n",
       "      <td id=\"T_f9bae_row6_col7\" class=\"data row6 col7\" >1.000000</td>\n",
       "    </tr>\n",
       "  </tbody>\n",
       "</table>\n"
      ],
      "text/plain": [
       "<pandas.io.formats.style.Styler at 0x263fe957c80>"
      ]
     },
     "execution_count": 8,
     "metadata": {},
     "output_type": "execute_result"
    }
   ],
   "source": [
    "data.describe().T.style.background_gradient(cmap=\"ocean_r\" , axis=1)"
   ]
  },
  {
   "cell_type": "code",
   "execution_count": 9,
   "metadata": {},
   "outputs": [
    {
     "data": {
      "text/html": [
       "<style type=\"text/css\">\n",
       "#T_273e4_row0_col0, #T_273e4_row1_col0, #T_273e4_row9_col0 {\n",
       "  background-color: #008000;\n",
       "  color: #f1f1f1;\n",
       "}\n",
       "#T_273e4_row2_col0 {\n",
       "  background-color: #e4f2f6;\n",
       "  color: #000000;\n",
       "}\n",
       "#T_273e4_row3_col0 {\n",
       "  background-color: #ffffff;\n",
       "  color: #000000;\n",
       "}\n",
       "#T_273e4_row4_col0 {\n",
       "  background-color: #000f5f;\n",
       "  color: #f1f1f1;\n",
       "}\n",
       "#T_273e4_row5_col0 {\n",
       "  background-color: #00216b;\n",
       "  color: #f1f1f1;\n",
       "}\n",
       "#T_273e4_row6_col0 {\n",
       "  background-color: #00246d;\n",
       "  color: #f1f1f1;\n",
       "}\n",
       "#T_273e4_row7_col0 {\n",
       "  background-color: #005890;\n",
       "  color: #f1f1f1;\n",
       "}\n",
       "#T_273e4_row8_col0 {\n",
       "  background-color: #00206a;\n",
       "  color: #f1f1f1;\n",
       "}\n",
       "</style>\n",
       "<table id=\"T_273e4\">\n",
       "  <thead>\n",
       "    <tr>\n",
       "      <th class=\"blank level0\" >&nbsp;</th>\n",
       "      <th id=\"T_273e4_level0_col0\" class=\"col_heading level0 col0\" >0</th>\n",
       "    </tr>\n",
       "  </thead>\n",
       "  <tbody>\n",
       "    <tr>\n",
       "      <th id=\"T_273e4_level0_row0\" class=\"row_heading level0 row0\" >step</th>\n",
       "      <td id=\"T_273e4_row0_col0\" class=\"data row0 col0\" >95</td>\n",
       "    </tr>\n",
       "    <tr>\n",
       "      <th id=\"T_273e4_level0_row1\" class=\"row_heading level0 row1\" >type</th>\n",
       "      <td id=\"T_273e4_row1_col0\" class=\"data row1 col0\" >5</td>\n",
       "    </tr>\n",
       "    <tr>\n",
       "      <th id=\"T_273e4_level0_row2\" class=\"row_heading level0 row2\" >amount</th>\n",
       "      <td id=\"T_273e4_row2_col0\" class=\"data row2 col0\" >1009606</td>\n",
       "    </tr>\n",
       "    <tr>\n",
       "      <th id=\"T_273e4_level0_row3\" class=\"row_heading level0 row3\" >nameOrig</th>\n",
       "      <td id=\"T_273e4_row3_col0\" class=\"data row3 col0\" >1048317</td>\n",
       "    </tr>\n",
       "    <tr>\n",
       "      <th id=\"T_273e4_level0_row4\" class=\"row_heading level0 row4\" >oldbalanceOrg</th>\n",
       "      <td id=\"T_273e4_row4_col0\" class=\"data row4 col0\" >391033</td>\n",
       "    </tr>\n",
       "    <tr>\n",
       "      <th id=\"T_273e4_level0_row5\" class=\"row_heading level0 row5\" >newbalanceOrig</th>\n",
       "      <td id=\"T_273e4_row5_col0\" class=\"data row5 col0\" >440792</td>\n",
       "    </tr>\n",
       "    <tr>\n",
       "      <th id=\"T_273e4_level0_row6\" class=\"row_heading level0 row6\" >nameDest</th>\n",
       "      <td id=\"T_273e4_row6_col0\" class=\"data row6 col0\" >449635</td>\n",
       "    </tr>\n",
       "    <tr>\n",
       "      <th id=\"T_273e4_level0_row7\" class=\"row_heading level0 row7\" >oldbalanceDest</th>\n",
       "      <td id=\"T_273e4_row7_col0\" class=\"data row7 col0\" >590110</td>\n",
       "    </tr>\n",
       "    <tr>\n",
       "      <th id=\"T_273e4_level0_row8\" class=\"row_heading level0 row8\" >newbalanceDest</th>\n",
       "      <td id=\"T_273e4_row8_col0\" class=\"data row8 col0\" >437054</td>\n",
       "    </tr>\n",
       "    <tr>\n",
       "      <th id=\"T_273e4_level0_row9\" class=\"row_heading level0 row9\" >isFraud</th>\n",
       "      <td id=\"T_273e4_row9_col0\" class=\"data row9 col0\" >2</td>\n",
       "    </tr>\n",
       "  </tbody>\n",
       "</table>\n"
      ],
      "text/plain": [
       "<pandas.io.formats.style.Styler at 0x263ff233890>"
      ]
     },
     "execution_count": 9,
     "metadata": {},
     "output_type": "execute_result"
    }
   ],
   "source": [
    "pd.DataFrame(data.nunique()).style.background_gradient(cmap=\"ocean\" , axis=0)"
   ]
  },
  {
   "cell_type": "code",
   "execution_count": 10,
   "metadata": {},
   "outputs": [
    {
     "data": {
      "text/plain": [
       "array(['PAYMENT', 'TRANSFER', 'CASH_OUT', 'DEBIT', 'CASH_IN'],\n",
       "      dtype=object)"
      ]
     },
     "execution_count": 10,
     "metadata": {},
     "output_type": "execute_result"
    }
   ],
   "source": [
    "data[\"type\"].unique()"
   ]
  },
  {
   "cell_type": "code",
   "execution_count": 11,
   "metadata": {},
   "outputs": [
    {
     "data": {
      "text/html": [
       "<style type=\"text/css\">\n",
       "#T_62dff_row0_col0 {\n",
       "  background-color: #081d58;\n",
       "  color: #f1f1f1;\n",
       "}\n",
       "#T_62dff_row1_col0 {\n",
       "  background-color: #142670;\n",
       "  color: #f1f1f1;\n",
       "}\n",
       "#T_62dff_row2_col0 {\n",
       "  background-color: #2498c1;\n",
       "  color: #f1f1f1;\n",
       "}\n",
       "#T_62dff_row3_col0 {\n",
       "  background-color: #d1edb3;\n",
       "  color: #000000;\n",
       "}\n",
       "#T_62dff_row4_col0 {\n",
       "  background-color: #ffffd9;\n",
       "  color: #000000;\n",
       "}\n",
       "</style>\n",
       "<table id=\"T_62dff\">\n",
       "  <thead>\n",
       "    <tr>\n",
       "      <th class=\"blank level0\" >&nbsp;</th>\n",
       "      <th id=\"T_62dff_level0_col0\" class=\"col_heading level0 col0\" >count</th>\n",
       "    </tr>\n",
       "    <tr>\n",
       "      <th class=\"index_name level0\" >type</th>\n",
       "      <th class=\"blank col0\" >&nbsp;</th>\n",
       "    </tr>\n",
       "  </thead>\n",
       "  <tbody>\n",
       "    <tr>\n",
       "      <th id=\"T_62dff_level0_row0\" class=\"row_heading level0 row0\" >CASH_OUT</th>\n",
       "      <td id=\"T_62dff_row0_col0\" class=\"data row0 col0\" >373641</td>\n",
       "    </tr>\n",
       "    <tr>\n",
       "      <th id=\"T_62dff_level0_row1\" class=\"row_heading level0 row1\" >PAYMENT</th>\n",
       "      <td id=\"T_62dff_row1_col0\" class=\"data row1 col0\" >353873</td>\n",
       "    </tr>\n",
       "    <tr>\n",
       "      <th id=\"T_62dff_level0_row2\" class=\"row_heading level0 row2\" >CASH_IN</th>\n",
       "      <td id=\"T_62dff_row2_col0\" class=\"data row2 col0\" >227130</td>\n",
       "    </tr>\n",
       "    <tr>\n",
       "      <th id=\"T_62dff_level0_row3\" class=\"row_heading level0 row3\" >TRANSFER</th>\n",
       "      <td id=\"T_62dff_row3_col0\" class=\"data row3 col0\" >86753</td>\n",
       "    </tr>\n",
       "    <tr>\n",
       "      <th id=\"T_62dff_level0_row4\" class=\"row_heading level0 row4\" >DEBIT</th>\n",
       "      <td id=\"T_62dff_row4_col0\" class=\"data row4 col0\" >7178</td>\n",
       "    </tr>\n",
       "  </tbody>\n",
       "</table>\n"
      ],
      "text/plain": [
       "<pandas.io.formats.style.Styler at 0x263a4892420>"
      ]
     },
     "execution_count": 11,
     "metadata": {},
     "output_type": "execute_result"
    }
   ],
   "source": [
    "pd.DataFrame(data[\"type\"].value_counts()).style.background_gradient(cmap=\"YlGnBu\" , axis=0)"
   ]
  },
  {
   "cell_type": "code",
   "execution_count": 12,
   "metadata": {},
   "outputs": [
    {
     "data": {
      "application/vnd.plotly.v1+json": {
       "config": {
        "plotlyServerURL": "https://plot.ly"
       },
       "data": [
        {
         "marker": {
          "color": [
           "blue",
           "red",
           "green",
           "yellow"
          ]
         },
         "name": "Type Count",
         "type": "bar",
         "x": [
          "CASH_OUT",
          "PAYMENT",
          "CASH_IN",
          "TRANSFER",
          "DEBIT"
         ],
         "xaxis": "x",
         "y": [
          373641,
          353873,
          227130,
          86753,
          7178
         ],
         "yaxis": "y"
        },
        {
         "domain": {
          "x": [
           0.55,
           1
          ],
          "y": [
           0,
           1
          ]
         },
         "labels": [
          "CASH_OUT",
          "PAYMENT",
          "CASH_IN",
          "TRANSFER",
          "DEBIT"
         ],
         "marker": {
          "colors": [
           "blue",
           "red",
           "green",
           "yellow",
           "black"
          ]
         },
         "name": "Pie Chart",
         "type": "pie",
         "values": [
          373641,
          353873,
          227130,
          86753,
          7178
         ]
        }
       ],
       "layout": {
        "height": 600,
        "margin": {
         "b": 20,
         "l": 20,
         "r": 20,
         "t": 100
        },
        "showlegend": true,
        "template": {
         "data": {
          "bar": [
           {
            "error_x": {
             "color": "#2a3f5f"
            },
            "error_y": {
             "color": "#2a3f5f"
            },
            "marker": {
             "line": {
              "color": "#E5ECF6",
              "width": 0.5
             },
             "pattern": {
              "fillmode": "overlay",
              "size": 10,
              "solidity": 0.2
             }
            },
            "type": "bar"
           }
          ],
          "barpolar": [
           {
            "marker": {
             "line": {
              "color": "#E5ECF6",
              "width": 0.5
             },
             "pattern": {
              "fillmode": "overlay",
              "size": 10,
              "solidity": 0.2
             }
            },
            "type": "barpolar"
           }
          ],
          "carpet": [
           {
            "aaxis": {
             "endlinecolor": "#2a3f5f",
             "gridcolor": "white",
             "linecolor": "white",
             "minorgridcolor": "white",
             "startlinecolor": "#2a3f5f"
            },
            "baxis": {
             "endlinecolor": "#2a3f5f",
             "gridcolor": "white",
             "linecolor": "white",
             "minorgridcolor": "white",
             "startlinecolor": "#2a3f5f"
            },
            "type": "carpet"
           }
          ],
          "choropleth": [
           {
            "colorbar": {
             "outlinewidth": 0,
             "ticks": ""
            },
            "type": "choropleth"
           }
          ],
          "contour": [
           {
            "colorbar": {
             "outlinewidth": 0,
             "ticks": ""
            },
            "colorscale": [
             [
              0,
              "#0d0887"
             ],
             [
              0.1111111111111111,
              "#46039f"
             ],
             [
              0.2222222222222222,
              "#7201a8"
             ],
             [
              0.3333333333333333,
              "#9c179e"
             ],
             [
              0.4444444444444444,
              "#bd3786"
             ],
             [
              0.5555555555555556,
              "#d8576b"
             ],
             [
              0.6666666666666666,
              "#ed7953"
             ],
             [
              0.7777777777777778,
              "#fb9f3a"
             ],
             [
              0.8888888888888888,
              "#fdca26"
             ],
             [
              1,
              "#f0f921"
             ]
            ],
            "type": "contour"
           }
          ],
          "contourcarpet": [
           {
            "colorbar": {
             "outlinewidth": 0,
             "ticks": ""
            },
            "type": "contourcarpet"
           }
          ],
          "heatmap": [
           {
            "colorbar": {
             "outlinewidth": 0,
             "ticks": ""
            },
            "colorscale": [
             [
              0,
              "#0d0887"
             ],
             [
              0.1111111111111111,
              "#46039f"
             ],
             [
              0.2222222222222222,
              "#7201a8"
             ],
             [
              0.3333333333333333,
              "#9c179e"
             ],
             [
              0.4444444444444444,
              "#bd3786"
             ],
             [
              0.5555555555555556,
              "#d8576b"
             ],
             [
              0.6666666666666666,
              "#ed7953"
             ],
             [
              0.7777777777777778,
              "#fb9f3a"
             ],
             [
              0.8888888888888888,
              "#fdca26"
             ],
             [
              1,
              "#f0f921"
             ]
            ],
            "type": "heatmap"
           }
          ],
          "heatmapgl": [
           {
            "colorbar": {
             "outlinewidth": 0,
             "ticks": ""
            },
            "colorscale": [
             [
              0,
              "#0d0887"
             ],
             [
              0.1111111111111111,
              "#46039f"
             ],
             [
              0.2222222222222222,
              "#7201a8"
             ],
             [
              0.3333333333333333,
              "#9c179e"
             ],
             [
              0.4444444444444444,
              "#bd3786"
             ],
             [
              0.5555555555555556,
              "#d8576b"
             ],
             [
              0.6666666666666666,
              "#ed7953"
             ],
             [
              0.7777777777777778,
              "#fb9f3a"
             ],
             [
              0.8888888888888888,
              "#fdca26"
             ],
             [
              1,
              "#f0f921"
             ]
            ],
            "type": "heatmapgl"
           }
          ],
          "histogram": [
           {
            "marker": {
             "pattern": {
              "fillmode": "overlay",
              "size": 10,
              "solidity": 0.2
             }
            },
            "type": "histogram"
           }
          ],
          "histogram2d": [
           {
            "colorbar": {
             "outlinewidth": 0,
             "ticks": ""
            },
            "colorscale": [
             [
              0,
              "#0d0887"
             ],
             [
              0.1111111111111111,
              "#46039f"
             ],
             [
              0.2222222222222222,
              "#7201a8"
             ],
             [
              0.3333333333333333,
              "#9c179e"
             ],
             [
              0.4444444444444444,
              "#bd3786"
             ],
             [
              0.5555555555555556,
              "#d8576b"
             ],
             [
              0.6666666666666666,
              "#ed7953"
             ],
             [
              0.7777777777777778,
              "#fb9f3a"
             ],
             [
              0.8888888888888888,
              "#fdca26"
             ],
             [
              1,
              "#f0f921"
             ]
            ],
            "type": "histogram2d"
           }
          ],
          "histogram2dcontour": [
           {
            "colorbar": {
             "outlinewidth": 0,
             "ticks": ""
            },
            "colorscale": [
             [
              0,
              "#0d0887"
             ],
             [
              0.1111111111111111,
              "#46039f"
             ],
             [
              0.2222222222222222,
              "#7201a8"
             ],
             [
              0.3333333333333333,
              "#9c179e"
             ],
             [
              0.4444444444444444,
              "#bd3786"
             ],
             [
              0.5555555555555556,
              "#d8576b"
             ],
             [
              0.6666666666666666,
              "#ed7953"
             ],
             [
              0.7777777777777778,
              "#fb9f3a"
             ],
             [
              0.8888888888888888,
              "#fdca26"
             ],
             [
              1,
              "#f0f921"
             ]
            ],
            "type": "histogram2dcontour"
           }
          ],
          "mesh3d": [
           {
            "colorbar": {
             "outlinewidth": 0,
             "ticks": ""
            },
            "type": "mesh3d"
           }
          ],
          "parcoords": [
           {
            "line": {
             "colorbar": {
              "outlinewidth": 0,
              "ticks": ""
             }
            },
            "type": "parcoords"
           }
          ],
          "pie": [
           {
            "automargin": true,
            "type": "pie"
           }
          ],
          "scatter": [
           {
            "fillpattern": {
             "fillmode": "overlay",
             "size": 10,
             "solidity": 0.2
            },
            "type": "scatter"
           }
          ],
          "scatter3d": [
           {
            "line": {
             "colorbar": {
              "outlinewidth": 0,
              "ticks": ""
             }
            },
            "marker": {
             "colorbar": {
              "outlinewidth": 0,
              "ticks": ""
             }
            },
            "type": "scatter3d"
           }
          ],
          "scattercarpet": [
           {
            "marker": {
             "colorbar": {
              "outlinewidth": 0,
              "ticks": ""
             }
            },
            "type": "scattercarpet"
           }
          ],
          "scattergeo": [
           {
            "marker": {
             "colorbar": {
              "outlinewidth": 0,
              "ticks": ""
             }
            },
            "type": "scattergeo"
           }
          ],
          "scattergl": [
           {
            "marker": {
             "colorbar": {
              "outlinewidth": 0,
              "ticks": ""
             }
            },
            "type": "scattergl"
           }
          ],
          "scattermapbox": [
           {
            "marker": {
             "colorbar": {
              "outlinewidth": 0,
              "ticks": ""
             }
            },
            "type": "scattermapbox"
           }
          ],
          "scatterpolar": [
           {
            "marker": {
             "colorbar": {
              "outlinewidth": 0,
              "ticks": ""
             }
            },
            "type": "scatterpolar"
           }
          ],
          "scatterpolargl": [
           {
            "marker": {
             "colorbar": {
              "outlinewidth": 0,
              "ticks": ""
             }
            },
            "type": "scatterpolargl"
           }
          ],
          "scatterternary": [
           {
            "marker": {
             "colorbar": {
              "outlinewidth": 0,
              "ticks": ""
             }
            },
            "type": "scatterternary"
           }
          ],
          "surface": [
           {
            "colorbar": {
             "outlinewidth": 0,
             "ticks": ""
            },
            "colorscale": [
             [
              0,
              "#0d0887"
             ],
             [
              0.1111111111111111,
              "#46039f"
             ],
             [
              0.2222222222222222,
              "#7201a8"
             ],
             [
              0.3333333333333333,
              "#9c179e"
             ],
             [
              0.4444444444444444,
              "#bd3786"
             ],
             [
              0.5555555555555556,
              "#d8576b"
             ],
             [
              0.6666666666666666,
              "#ed7953"
             ],
             [
              0.7777777777777778,
              "#fb9f3a"
             ],
             [
              0.8888888888888888,
              "#fdca26"
             ],
             [
              1,
              "#f0f921"
             ]
            ],
            "type": "surface"
           }
          ],
          "table": [
           {
            "cells": {
             "fill": {
              "color": "#EBF0F8"
             },
             "line": {
              "color": "white"
             }
            },
            "header": {
             "fill": {
              "color": "#C8D4E3"
             },
             "line": {
              "color": "white"
             }
            },
            "type": "table"
           }
          ]
         },
         "layout": {
          "annotationdefaults": {
           "arrowcolor": "#2a3f5f",
           "arrowhead": 0,
           "arrowwidth": 1
          },
          "autotypenumbers": "strict",
          "coloraxis": {
           "colorbar": {
            "outlinewidth": 0,
            "ticks": ""
           }
          },
          "colorscale": {
           "diverging": [
            [
             0,
             "#8e0152"
            ],
            [
             0.1,
             "#c51b7d"
            ],
            [
             0.2,
             "#de77ae"
            ],
            [
             0.3,
             "#f1b6da"
            ],
            [
             0.4,
             "#fde0ef"
            ],
            [
             0.5,
             "#f7f7f7"
            ],
            [
             0.6,
             "#e6f5d0"
            ],
            [
             0.7,
             "#b8e186"
            ],
            [
             0.8,
             "#7fbc41"
            ],
            [
             0.9,
             "#4d9221"
            ],
            [
             1,
             "#276419"
            ]
           ],
           "sequential": [
            [
             0,
             "#0d0887"
            ],
            [
             0.1111111111111111,
             "#46039f"
            ],
            [
             0.2222222222222222,
             "#7201a8"
            ],
            [
             0.3333333333333333,
             "#9c179e"
            ],
            [
             0.4444444444444444,
             "#bd3786"
            ],
            [
             0.5555555555555556,
             "#d8576b"
            ],
            [
             0.6666666666666666,
             "#ed7953"
            ],
            [
             0.7777777777777778,
             "#fb9f3a"
            ],
            [
             0.8888888888888888,
             "#fdca26"
            ],
            [
             1,
             "#f0f921"
            ]
           ],
           "sequentialminus": [
            [
             0,
             "#0d0887"
            ],
            [
             0.1111111111111111,
             "#46039f"
            ],
            [
             0.2222222222222222,
             "#7201a8"
            ],
            [
             0.3333333333333333,
             "#9c179e"
            ],
            [
             0.4444444444444444,
             "#bd3786"
            ],
            [
             0.5555555555555556,
             "#d8576b"
            ],
            [
             0.6666666666666666,
             "#ed7953"
            ],
            [
             0.7777777777777778,
             "#fb9f3a"
            ],
            [
             0.8888888888888888,
             "#fdca26"
            ],
            [
             1,
             "#f0f921"
            ]
           ]
          },
          "colorway": [
           "#636efa",
           "#EF553B",
           "#00cc96",
           "#ab63fa",
           "#FFA15A",
           "#19d3f3",
           "#FF6692",
           "#B6E880",
           "#FF97FF",
           "#FECB52"
          ],
          "font": {
           "color": "#2a3f5f"
          },
          "geo": {
           "bgcolor": "white",
           "lakecolor": "white",
           "landcolor": "#E5ECF6",
           "showlakes": true,
           "showland": true,
           "subunitcolor": "white"
          },
          "hoverlabel": {
           "align": "left"
          },
          "hovermode": "closest",
          "mapbox": {
           "style": "light"
          },
          "paper_bgcolor": "white",
          "plot_bgcolor": "#E5ECF6",
          "polar": {
           "angularaxis": {
            "gridcolor": "white",
            "linecolor": "white",
            "ticks": ""
           },
           "bgcolor": "#E5ECF6",
           "radialaxis": {
            "gridcolor": "white",
            "linecolor": "white",
            "ticks": ""
           }
          },
          "scene": {
           "xaxis": {
            "backgroundcolor": "#E5ECF6",
            "gridcolor": "white",
            "gridwidth": 2,
            "linecolor": "white",
            "showbackground": true,
            "ticks": "",
            "zerolinecolor": "white"
           },
           "yaxis": {
            "backgroundcolor": "#E5ECF6",
            "gridcolor": "white",
            "gridwidth": 2,
            "linecolor": "white",
            "showbackground": true,
            "ticks": "",
            "zerolinecolor": "white"
           },
           "zaxis": {
            "backgroundcolor": "#E5ECF6",
            "gridcolor": "white",
            "gridwidth": 2,
            "linecolor": "white",
            "showbackground": true,
            "ticks": "",
            "zerolinecolor": "white"
           }
          },
          "shapedefaults": {
           "line": {
            "color": "#2a3f5f"
           }
          },
          "ternary": {
           "aaxis": {
            "gridcolor": "white",
            "linecolor": "white",
            "ticks": ""
           },
           "baxis": {
            "gridcolor": "white",
            "linecolor": "white",
            "ticks": ""
           },
           "bgcolor": "#E5ECF6",
           "caxis": {
            "gridcolor": "white",
            "linecolor": "white",
            "ticks": ""
           }
          },
          "title": {
           "x": 0.05
          },
          "xaxis": {
           "automargin": true,
           "gridcolor": "white",
           "linecolor": "white",
           "ticks": "",
           "title": {
            "standoff": 15
           },
           "zerolinecolor": "white",
           "zerolinewidth": 2
          },
          "yaxis": {
           "automargin": true,
           "gridcolor": "white",
           "linecolor": "white",
           "ticks": "",
           "title": {
            "standoff": 15
           },
           "zerolinecolor": "white",
           "zerolinewidth": 2
          }
         }
        },
        "title": {
         "text": "Type Distribution: Bar Chart and Pie Chart"
        },
        "width": 1400,
        "xaxis": {
         "anchor": "y",
         "domain": [
          0,
          0.45
         ],
         "title": {
          "text": "Value"
         }
        },
        "yaxis": {
         "anchor": "x",
         "domain": [
          0,
          1
         ],
         "title": {
          "text": "Count"
         }
        }
       }
      }
     },
     "metadata": {},
     "output_type": "display_data"
    }
   ],
   "source": [
    "type_count = data[\"type\"].value_counts()\n",
    "\n",
    "fig = sp.make_subplots(\n",
    "    rows=1 , \n",
    "    cols=2,\n",
    "    specs=[[{\"type\":\"xy\"} , {\"type\":\"domain\"}]]\n",
    "    )\n",
    "bar_trace = go.Bar(\n",
    "    x=type_count.index ,\n",
    "    y=type_count.values ,\n",
    "    name=\"Type Count\" ,\n",
    "    marker=dict(color=[\"blue\" , \"red\" , \"green\" , \"yellow\"])\n",
    ")\n",
    "fig.add_trace(bar_trace , row=1 , col=1)\n",
    "pie_trace = go.Pie(\n",
    "    labels=type_count.index ,\n",
    "    values=type_count.values ,\n",
    "    name=\"Pie Chart\" ,\n",
    "    marker=dict(colors=[\"blue\" , \"red\" , \"green\" , \"yellow\" ,\"black\"])\n",
    ")\n",
    "fig.add_trace(pie_trace , row=1 , col=2)\n",
    "fig.update_layout(\n",
    "    title_text=\"Type Distribution: Bar Chart and Pie Chart\" ,\n",
    "    showlegend=True ,\n",
    "    height=600 ,\n",
    "    width=1400 ,\n",
    "    margin=dict(l=20 , r=20 , t=100 , b=20) ,\n",
    "    xaxis_title = \"Value\" ,\n",
    "    yaxis_title = \"Count\"\n",
    ")\n",
    "fig.show()"
   ]
  },
  {
   "cell_type": "code",
   "execution_count": 13,
   "metadata": {},
   "outputs": [
    {
     "data": {
      "text/plain": [
       "<Figure size 2000x800 with 0 Axes>"
      ]
     },
     "metadata": {},
     "output_type": "display_data"
    },
    {
     "data": {
      "image/png": "[encoded data removed]",
      "text/plain": [
       "<Figure size 511.111x500 with 1 Axes>"
      ]
     },
     "metadata": {},
     "output_type": "display_data"
    }
   ],
   "source": [
    "plt.figure(figsize=(20,8))\n",
    "sns.catplot(data=data, x=\"type\", y=\"isFraud\")\n",
    "plt.show()"
   ]
  },
  {
   "cell_type": "code",
   "execution_count": 14,
   "metadata": {},
   "outputs": [
    {
     "data": {
      "text/html": [
       "<style type=\"text/css\">\n",
       "#T_f944c_row0_col0 {\n",
       "  background-color: #fc5b2e;\n",
       "  color: #f1f1f1;\n",
       "}\n",
       "#T_f944c_row0_col1, #T_f944c_row2_col0, #T_f944c_row2_col1, #T_f944c_row3_col1 {\n",
       "  background-color: #ffffcc;\n",
       "  color: #000000;\n",
       "}\n",
       "#T_f944c_row1_col0, #T_f944c_row1_col1 {\n",
       "  background-color: #800026;\n",
       "  color: #f1f1f1;\n",
       "}\n",
       "#T_f944c_row3_col0 {\n",
       "  background-color: #990026;\n",
       "  color: #f1f1f1;\n",
       "}\n",
       "#T_f944c_row4_col0 {\n",
       "  background-color: #fede82;\n",
       "  color: #000000;\n",
       "}\n",
       "#T_f944c_row4_col1 {\n",
       "  background-color: #8b0026;\n",
       "  color: #f1f1f1;\n",
       "}\n",
       "</style>\n",
       "<table id=\"T_f944c\">\n",
       "  <thead>\n",
       "    <tr>\n",
       "      <th class=\"index_name level0\" >isFraud</th>\n",
       "      <th id=\"T_f944c_level0_col0\" class=\"col_heading level0 col0\" >0</th>\n",
       "      <th id=\"T_f944c_level0_col1\" class=\"col_heading level0 col1\" >1</th>\n",
       "    </tr>\n",
       "    <tr>\n",
       "      <th class=\"index_name level0\" >type</th>\n",
       "      <th class=\"blank col0\" >&nbsp;</th>\n",
       "      <th class=\"blank col1\" >&nbsp;</th>\n",
       "    </tr>\n",
       "  </thead>\n",
       "  <tbody>\n",
       "    <tr>\n",
       "      <th id=\"T_f944c_level0_row0\" class=\"row_heading level0 row0\" >CASH_IN</th>\n",
       "      <td id=\"T_f944c_row0_col0\" class=\"data row0 col0\" >227130</td>\n",
       "      <td id=\"T_f944c_row0_col1\" class=\"data row0 col1\" >0</td>\n",
       "    </tr>\n",
       "    <tr>\n",
       "      <th id=\"T_f944c_level0_row1\" class=\"row_heading level0 row1\" >CASH_OUT</th>\n",
       "      <td id=\"T_f944c_row1_col0\" class=\"data row1 col0\" >373063</td>\n",
       "      <td id=\"T_f944c_row1_col1\" class=\"data row1 col1\" >578</td>\n",
       "    </tr>\n",
       "    <tr>\n",
       "      <th id=\"T_f944c_level0_row2\" class=\"row_heading level0 row2\" >DEBIT</th>\n",
       "      <td id=\"T_f944c_row2_col0\" class=\"data row2 col0\" >7178</td>\n",
       "      <td id=\"T_f944c_row2_col1\" class=\"data row2 col1\" >0</td>\n",
       "    </tr>\n",
       "    <tr>\n",
       "      <th id=\"T_f944c_level0_row3\" class=\"row_heading level0 row3\" >PAYMENT</th>\n",
       "      <td id=\"T_f944c_row3_col0\" class=\"data row3 col0\" >353873</td>\n",
       "      <td id=\"T_f944c_row3_col1\" class=\"data row3 col1\" >0</td>\n",
       "    </tr>\n",
       "    <tr>\n",
       "      <th id=\"T_f944c_level0_row4\" class=\"row_heading level0 row4\" >TRANSFER</th>\n",
       "      <td id=\"T_f944c_row4_col0\" class=\"data row4 col0\" >86189</td>\n",
       "      <td id=\"T_f944c_row4_col1\" class=\"data row4 col1\" >564</td>\n",
       "    </tr>\n",
       "  </tbody>\n",
       "</table>\n"
      ],
      "text/plain": [
       "<pandas.io.formats.style.Styler at 0x26397c2e690>"
      ]
     },
     "execution_count": 14,
     "metadata": {},
     "output_type": "execute_result"
    }
   ],
   "source": [
    "grouped_df = data.groupby(['type', 'isFraud']).size().unstack(fill_value=0)\n",
    "grouped_df.style.background_gradient(cmap=\"YlOrRd\", axis=0)"
   ]
  },
  {
   "cell_type": "markdown",
   "metadata": {},
   "source": [
    "<div style=\"padding: 15px; border: 2px solid #0077b6; background-color: #f9fcff; border-radius: 12px; font-family: 'Arial', sans-serif; font-size: 0.9em;\">\n",
    "    <div style=\"text-align: left; color: #003d66; font-size: 1.1em; font-family: 'Georgia', serif;\">\n",
    "        <ul style=\"list-style-type: square; margin-left: 20px;\">\n",
    "            <li><strong><u>🌟Conclusion:</u></strong></li>\n",
    "            <li><strong>The table summarizes the distribution of fraud cases across different transaction types. The 0 column represents legitimate transactions, and the 1 column represents fraudulent transactions. Key observations include:</strong></li>\n",
    "            <li><strong></strong>ASH_IN, DEBIT, and PAYMENT transactions show no fraud cases, indicating that these types of transactions are generally safe in this dataset.</li>\n",
    "            <li><strong></strong>CASH_OUT and TRANSFER transactions have notable instances of fraud:<li>There are 578 fraudulent CASH_OUT transactions out of 373,063 total.</li>\n",
    "            <li><strong></strong>564 fraudulent TRANSFER transactions occur out of 86,189 total, indicating this transaction type is also susceptible to fraud.</li>\n",
    "            </li>\n",
    "        </ul>\n",
    "    </div>\n",
    "</div>"
   ]
  },
  {
   "cell_type": "code",
   "execution_count": 15,
   "metadata": {},
   "outputs": [
    {
     "data": {
      "text/html": [
       "<div>\n",
       "<style scoped>\n",
       "    .dataframe tbody tr th:only-of-type {\n",
       "        vertical-align: middle;\n",
       "    }\n",
       "\n",
       "    .dataframe tbody tr th {\n",
       "        vertical-align: top;\n",
       "    }\n",
       "\n",
       "    .dataframe thead th {\n",
       "        text-align: right;\n",
       "    }\n",
       "</style>\n",
       "<table border=\"1\" class=\"dataframe\">\n",
       "  <thead>\n",
       "    <tr style=\"text-align: right;\">\n",
       "      <th></th>\n",
       "      <th>step</th>\n",
       "      <th>type</th>\n",
       "      <th>amount</th>\n",
       "      <th>nameOrig</th>\n",
       "      <th>oldbalanceOrg</th>\n",
       "      <th>newbalanceOrig</th>\n",
       "      <th>nameDest</th>\n",
       "      <th>oldbalanceDest</th>\n",
       "      <th>newbalanceDest</th>\n",
       "      <th>isFraud</th>\n",
       "    </tr>\n",
       "  </thead>\n",
       "  <tbody>\n",
       "    <tr>\n",
       "      <th>2</th>\n",
       "      <td>1</td>\n",
       "      <td>TRANSFER</td>\n",
       "      <td>181.00</td>\n",
       "      <td>C1305486145</td>\n",
       "      <td>181.00</td>\n",
       "      <td>0.0</td>\n",
       "      <td>C553264065</td>\n",
       "      <td>0.00</td>\n",
       "      <td>0.00</td>\n",
       "      <td>1</td>\n",
       "    </tr>\n",
       "    <tr>\n",
       "      <th>3</th>\n",
       "      <td>1</td>\n",
       "      <td>CASH_OUT</td>\n",
       "      <td>181.00</td>\n",
       "      <td>C840083671</td>\n",
       "      <td>181.00</td>\n",
       "      <td>0.0</td>\n",
       "      <td>C38997010</td>\n",
       "      <td>21182.00</td>\n",
       "      <td>0.00</td>\n",
       "      <td>1</td>\n",
       "    </tr>\n",
       "    <tr>\n",
       "      <th>251</th>\n",
       "      <td>1</td>\n",
       "      <td>TRANSFER</td>\n",
       "      <td>2806.00</td>\n",
       "      <td>C1420196421</td>\n",
       "      <td>2806.00</td>\n",
       "      <td>0.0</td>\n",
       "      <td>C972765878</td>\n",
       "      <td>0.00</td>\n",
       "      <td>0.00</td>\n",
       "      <td>1</td>\n",
       "    </tr>\n",
       "    <tr>\n",
       "      <th>252</th>\n",
       "      <td>1</td>\n",
       "      <td>CASH_OUT</td>\n",
       "      <td>2806.00</td>\n",
       "      <td>C2101527076</td>\n",
       "      <td>2806.00</td>\n",
       "      <td>0.0</td>\n",
       "      <td>C1007251739</td>\n",
       "      <td>26202.00</td>\n",
       "      <td>0.00</td>\n",
       "      <td>1</td>\n",
       "    </tr>\n",
       "    <tr>\n",
       "      <th>680</th>\n",
       "      <td>1</td>\n",
       "      <td>TRANSFER</td>\n",
       "      <td>20128.00</td>\n",
       "      <td>C137533655</td>\n",
       "      <td>20128.00</td>\n",
       "      <td>0.0</td>\n",
       "      <td>C1848415041</td>\n",
       "      <td>0.00</td>\n",
       "      <td>0.00</td>\n",
       "      <td>1</td>\n",
       "    </tr>\n",
       "    <tr>\n",
       "      <th>...</th>\n",
       "      <td>...</td>\n",
       "      <td>...</td>\n",
       "      <td>...</td>\n",
       "      <td>...</td>\n",
       "      <td>...</td>\n",
       "      <td>...</td>\n",
       "      <td>...</td>\n",
       "      <td>...</td>\n",
       "      <td>...</td>\n",
       "      <td>...</td>\n",
       "    </tr>\n",
       "    <tr>\n",
       "      <th>1047888</th>\n",
       "      <td>95</td>\n",
       "      <td>CASH_OUT</td>\n",
       "      <td>56745.14</td>\n",
       "      <td>C526144262</td>\n",
       "      <td>56745.14</td>\n",
       "      <td>0.0</td>\n",
       "      <td>C79051264</td>\n",
       "      <td>51433.88</td>\n",
       "      <td>108179.02</td>\n",
       "      <td>1</td>\n",
       "    </tr>\n",
       "    <tr>\n",
       "      <th>1048221</th>\n",
       "      <td>95</td>\n",
       "      <td>TRANSFER</td>\n",
       "      <td>33676.59</td>\n",
       "      <td>C732111322</td>\n",
       "      <td>33676.59</td>\n",
       "      <td>0.0</td>\n",
       "      <td>C1140210295</td>\n",
       "      <td>0.00</td>\n",
       "      <td>0.00</td>\n",
       "      <td>1</td>\n",
       "    </tr>\n",
       "    <tr>\n",
       "      <th>1048222</th>\n",
       "      <td>95</td>\n",
       "      <td>CASH_OUT</td>\n",
       "      <td>33676.59</td>\n",
       "      <td>C1000086512</td>\n",
       "      <td>33676.59</td>\n",
       "      <td>0.0</td>\n",
       "      <td>C1759363094</td>\n",
       "      <td>0.00</td>\n",
       "      <td>33676.59</td>\n",
       "      <td>1</td>\n",
       "    </tr>\n",
       "    <tr>\n",
       "      <th>1048323</th>\n",
       "      <td>95</td>\n",
       "      <td>TRANSFER</td>\n",
       "      <td>87999.25</td>\n",
       "      <td>C927181710</td>\n",
       "      <td>87999.25</td>\n",
       "      <td>0.0</td>\n",
       "      <td>C757947873</td>\n",
       "      <td>0.00</td>\n",
       "      <td>0.00</td>\n",
       "      <td>1</td>\n",
       "    </tr>\n",
       "    <tr>\n",
       "      <th>1048324</th>\n",
       "      <td>95</td>\n",
       "      <td>CASH_OUT</td>\n",
       "      <td>87999.25</td>\n",
       "      <td>C409531429</td>\n",
       "      <td>87999.25</td>\n",
       "      <td>0.0</td>\n",
       "      <td>C1827219533</td>\n",
       "      <td>0.00</td>\n",
       "      <td>87999.25</td>\n",
       "      <td>1</td>\n",
       "    </tr>\n",
       "  </tbody>\n",
       "</table>\n",
       "<p>1109 rows × 10 columns</p>\n",
       "</div>"
      ],
      "text/plain": [
       "         step      type    amount     nameOrig  oldbalanceOrg  newbalanceOrig  \\\n",
       "2           1  TRANSFER    181.00  C1305486145         181.00             0.0   \n",
       "3           1  CASH_OUT    181.00   C840083671         181.00             0.0   \n",
       "251         1  TRANSFER   2806.00  C1420196421        2806.00             0.0   \n",
       "252         1  CASH_OUT   2806.00  C2101527076        2806.00             0.0   \n",
       "680         1  TRANSFER  20128.00   C137533655       20128.00             0.0   \n",
       "...       ...       ...       ...          ...            ...             ...   \n",
       "1047888    95  CASH_OUT  56745.14   C526144262       56745.14             0.0   \n",
       "1048221    95  TRANSFER  33676.59   C732111322       33676.59             0.0   \n",
       "1048222    95  CASH_OUT  33676.59  C1000086512       33676.59             0.0   \n",
       "1048323    95  TRANSFER  87999.25   C927181710       87999.25             0.0   \n",
       "1048324    95  CASH_OUT  87999.25   C409531429       87999.25             0.0   \n",
       "\n",
       "            nameDest  oldbalanceDest  newbalanceDest  isFraud  \n",
       "2         C553264065            0.00            0.00        1  \n",
       "3          C38997010        21182.00            0.00        1  \n",
       "251       C972765878            0.00            0.00        1  \n",
       "252      C1007251739        26202.00            0.00        1  \n",
       "680      C1848415041            0.00            0.00        1  \n",
       "...              ...             ...             ...      ...  \n",
       "1047888    C79051264        51433.88       108179.02        1  \n",
       "1048221  C1140210295            0.00            0.00        1  \n",
       "1048222  C1759363094            0.00        33676.59        1  \n",
       "1048323   C757947873            0.00            0.00        1  \n",
       "1048324  C1827219533            0.00        87999.25        1  \n",
       "\n",
       "[1109 rows x 10 columns]"
      ]
     },
     "execution_count": 15,
     "metadata": {},
     "output_type": "execute_result"
    }
   ],
   "source": [
    "data[(data['amount']==data['oldbalanceOrg']) & (data['isFraud']==1)]\n"
   ]
  },
  {
   "cell_type": "markdown",
   "metadata": {},
   "source": [
    "<div style=\"padding: 15px; border: 2px solid #0077b6; background-color: #f9fcff; border-radius: 12px; font-family: 'Arial', sans-serif; font-size: 0.9em;\">\n",
    "    <div style=\"text-align: left; color: #003d66; font-size: 1.1em; font-family: 'Georgia', serif;\">\n",
    "        <ul style=\"list-style-type: square; margin-left: 20px;\">\n",
    "            <li><strong><u>🌟Conclusion:</u></strong></li>\n",
    "            <li><strong></strong>if 'amount'=='oldbalanceOrg', then its Fraud Transactions.</li>\n",
    "            <li><strong></strong>It means , whenever fraudulent agents are aware about target account balance.</li>\n",
    "            <li><strong></strong>then their motive was to transfer all account balanced to their respected destination accounts.</li>\n",
    "        </ul>\n",
    "    </div>\n",
    "</div>"
   ]
  },
  {
   "cell_type": "code",
   "execution_count": 16,
   "metadata": {},
   "outputs": [
    {
     "data": {
      "image/png": "[encoded data removed]",
      "text/plain": [
       "<Figure size 1700x800 with 1 Axes>"
      ]
     },
     "metadata": {},
     "output_type": "display_data"
    }
   ],
   "source": [
    "plt.figure(figsize=(17,8))\n",
    "sns.histplot(x='step', data=data, kde=True ,hue='isFraud' , color=[\"blue\" , \"red\"])\n",
    "plt.show()"
   ]
  },
  {
   "cell_type": "code",
   "execution_count": 17,
   "metadata": {},
   "outputs": [
    {
     "data": {
      "text/html": [
       "<style type=\"text/css\">\n",
       "#T_bd904_row0_col0, #T_bd904_row0_col1 {\n",
       "  background-color: #ffffcc;\n",
       "  color: #000000;\n",
       "}\n",
       "</style>\n",
       "<table id=\"T_bd904\">\n",
       "  <thead>\n",
       "    <tr>\n",
       "      <th class=\"index_name level0\" >isFraud</th>\n",
       "      <th id=\"T_bd904_level0_col0\" class=\"col_heading level0 col0\" >0</th>\n",
       "      <th id=\"T_bd904_level0_col1\" class=\"col_heading level0 col1\" >1</th>\n",
       "    </tr>\n",
       "    <tr>\n",
       "      <th class=\"index_name level0\" >step</th>\n",
       "      <th class=\"blank col0\" >&nbsp;</th>\n",
       "      <th class=\"blank col1\" >&nbsp;</th>\n",
       "    </tr>\n",
       "  </thead>\n",
       "  <tbody>\n",
       "    <tr>\n",
       "      <th id=\"T_bd904_level0_row0\" class=\"row_heading level0 row0\" >True</th>\n",
       "      <td id=\"T_bd904_row0_col0\" class=\"data row0 col0\" >1047433</td>\n",
       "      <td id=\"T_bd904_row0_col1\" class=\"data row0 col1\" >1142</td>\n",
       "    </tr>\n",
       "  </tbody>\n",
       "</table>\n"
      ],
      "text/plain": [
       "<pandas.io.formats.style.Styler at 0x26397dc04a0>"
      ]
     },
     "execution_count": 17,
     "metadata": {},
     "output_type": "execute_result"
    }
   ],
   "source": [
    "grouped_df = data.groupby([data['step']<=400 , 'isFraud']).size().unstack(fill_value=0)\n",
    "grouped_df.style.background_gradient(cmap=\"YlOrRd\", axis=0)"
   ]
  },
  {
   "cell_type": "markdown",
   "metadata": {},
   "source": [
    "<div style=\"padding: 15px; border: 2px solid #0077b6; background-color: #f9fcff; border-radius: 12px; font-family: 'Arial', sans-serif; font-size: 0.9em;\">\n",
    "    <div style=\"text-align: left; color: #003d66; font-size: 1.1em; font-family: 'Georgia', serif;\">\n",
    "        <ul style=\"list-style-type: square; margin-left: 20px;\">\n",
    "            <li><strong><u>🌟Conclusion:</u></strong></li>\n",
    "            <li><strong></strong>It is difficult to identify fraud transcation time duration,but we noticed that most of the transactions are below 400 time unit where 1 time unit = 1 hr.</li>\n",
    "        </ul>\n",
    "    </div>\n",
    "</div>\n"
   ]
  },
  {
   "cell_type": "code",
   "execution_count": 18,
   "metadata": {},
   "outputs": [
    {
     "data": {
      "image/png": "[encoded data removed]",
      "text/plain": [
       "<Figure size 1700x800 with 2 Axes>"
      ]
     },
     "metadata": {},
     "output_type": "display_data"
    }
   ],
   "source": [
    "# Create the heatmap\n",
    "plt.figure(figsize=(17,8))\n",
    "sns.heatmap(\n",
    "    data.corr(numeric_only=True),  # Compute correlation on the numerical data, not just column names\n",
    "    annot=True,\n",
    "    fmt=\"0.2f\",\n",
    "    linewidths=0.5,\n",
    "    linecolor=\"white\",\n",
    "    mask=np.triu(data.corr(numeric_only=True)),  # Mask the upper triangle of the heatmap\n",
    "    cmap=\"YlOrRd\",\n",
    ")\n",
    "plt.show()\n"
   ]
  },
  {
   "cell_type": "markdown",
   "metadata": {},
   "source": [
    "<div style=\"padding: 15px; border: 2px solid #0077b6; background-color: #f9fcff; border-radius: 12px; font-family: 'Arial', sans-serif; font-size: 0.9em;\">\n",
    "    <div style=\"text-align: center; color: #003d66; font-size: 1.6em; font-weight: bold; font-family: 'Playfair Display', serif; border-bottom: 2px solid #0077b6; padding-bottom: 5px; margin-bottom: 15px;\">\n",
    "          <u>🌟Correlation</u>\n",
    "    </div>\n",
    "    <div style=\"text-align: left; color: #003d66; font-size: 1.1em; font-family: 'Georgia', serif;\">\n",
    "        <ul style=\"list-style-type: square; margin-left: 20px;\">\n",
    "            <li><strong><u>🌟Conclusion:</u></strong></li>\n",
    "            <li><strong></strong><pre>1. there is MULTI_COLLINEARITY between independent features\n",
    "            ( 'oldbalanceDest', 'newbalanceDest' ) = 0.9766\n",
    "            ( 'oldbalanceOrg', 'newbalanceOrg') = 0.9988\n",
    "            Need to remove one from each of two correlation</li>\n",
    "            </pre>\n",
    "            <li><strong></strong><pre>2. Best option is to remove 'newbalanceOrig' and 'newbalanceDest',\n",
    "becuase they are less correlated with dependent feature ( \"isFraud\"),\n",
    "as compare to other two one. </li>\n",
    "        </ul>\n",
    "    </div>\n",
    "</div>\n"
   ]
  },
  {
   "cell_type": "code",
   "execution_count": 19,
   "metadata": {},
   "outputs": [],
   "source": [
    "data = data.drop([\"newbalanceOrig\" , \"newbalanceDest\"] , axis=1)"
   ]
  },
  {
   "cell_type": "code",
   "execution_count": 20,
   "metadata": {},
   "outputs": [],
   "source": [
    "# sns.pairplot(\n",
    "#     data, \n",
    "#     hue='isFraud', \n",
    "#     corner=True , \n",
    "#     palette=['blue', 'black']\n",
    "#     )\n",
    "# plt.show()"
   ]
  },
  {
   "cell_type": "code",
   "execution_count": 21,
   "metadata": {},
   "outputs": [],
   "source": [
    "# column_names=data.select_dtypes(include=[\"int64\" , \"float64\"]).columns\n",
    "# fig,axis=plt.subplots(7,1,figsize=(20,30))\n",
    "# fig.subplots_adjust(hspace=0.75)\n",
    "# for i in range(7):\n",
    "#     sns.boxplot(x=column_names[i],data=data,ax=axis[i] , color=\"green\")"
   ]
  },
  {
   "cell_type": "code",
   "execution_count": 22,
   "metadata": {},
   "outputs": [],
   "source": [
    "# for col in data.columns:\n",
    "#         plt.figure(figsize=(20 , 5))\n",
    "#         sns.histplot(x=data[col],kde=True,color='purple')\n",
    "#         plt.title(col)\n",
    "#         plt.show()"
   ]
  },
  {
   "cell_type": "code",
   "execution_count": 23,
   "metadata": {},
   "outputs": [],
   "source": [
    "# for col in data.select_dtypes(include=[\"int64\" , \"float64\"]).columns :\n",
    "#         plt.figure(figsize=(20 , 6))\n",
    "\n",
    "#         plt.subplot(1,3,1)\n",
    "#         plt.title(\"Counter Plot\")\n",
    "#         sns.countplot(x = data[col] , data = data , color=\"#05f539\")\n",
    "\n",
    "#         plt.subplot(1,3,2)\n",
    "#         plt.title(\"Distribution Plot\") \n",
    "#         sns.distplot(data[col] , color=\"#e80e0e\")\n",
    "\n",
    "#         plt.subplot(1,3,3)\n",
    "#         plt.title(\"Box Plot\")\n",
    "#         sns.boxplot(y=data[col] , color=\"#f5ed05\")\n",
    "\n",
    "#         plt.show()"
   ]
  },
  {
   "cell_type": "code",
   "execution_count": 24,
   "metadata": {},
   "outputs": [
    {
     "data": {
      "text/html": [
       "<div>\n",
       "<style scoped>\n",
       "    .dataframe tbody tr th:only-of-type {\n",
       "        vertical-align: middle;\n",
       "    }\n",
       "\n",
       "    .dataframe tbody tr th {\n",
       "        vertical-align: top;\n",
       "    }\n",
       "\n",
       "    .dataframe thead th {\n",
       "        text-align: right;\n",
       "    }\n",
       "</style>\n",
       "<table border=\"1\" class=\"dataframe\">\n",
       "  <thead>\n",
       "    <tr style=\"text-align: right;\">\n",
       "      <th></th>\n",
       "      <th>Count</th>\n",
       "    </tr>\n",
       "  </thead>\n",
       "  <tbody>\n",
       "    <tr>\n",
       "      <th>Legit</th>\n",
       "      <td>1047433</td>\n",
       "    </tr>\n",
       "    <tr>\n",
       "      <th>Fraud</th>\n",
       "      <td>1142</td>\n",
       "    </tr>\n",
       "  </tbody>\n",
       "</table>\n",
       "</div>"
      ],
      "text/plain": [
       "         Count\n",
       "Legit  1047433\n",
       "Fraud     1142"
      ]
     },
     "execution_count": 24,
     "metadata": {},
     "output_type": "execute_result"
    }
   ],
   "source": [
    "\n",
    "pd.DataFrame(data[\"isFraud\"].value_counts().values, \n",
    "             index=[\"Legit\", \"Fraud\"], \n",
    "             columns=[\"Count\"])\n"
   ]
  },
  {
   "cell_type": "code",
   "execution_count": 25,
   "metadata": {},
   "outputs": [
    {
     "data": {
      "application/vnd.plotly.v1+json": {
       "config": {
        "plotlyServerURL": "https://plot.ly"
       },
       "data": [
        {
         "marker": {
          "color": [
           "blue",
           "black"
          ]
         },
         "name": "IsFraud Count",
         "type": "bar",
         "x": [
          0,
          1
         ],
         "xaxis": "x",
         "y": [
          1047433,
          1142
         ],
         "yaxis": "y"
        },
        {
         "domain": {
          "x": [
           0.55,
           1
          ],
          "y": [
           0,
           1
          ]
         },
         "labels": [
          0,
          1
         ],
         "marker": {
          "colors": [
           "blue",
           "black"
          ]
         },
         "name": "Pie Chart",
         "type": "pie",
         "values": [
          1047433,
          1142
         ]
        }
       ],
       "layout": {
        "height": 600,
        "margin": {
         "b": 20,
         "l": 20,
         "r": 20,
         "t": 100
        },
        "showlegend": true,
        "template": {
         "data": {
          "bar": [
           {
            "error_x": {
             "color": "#2a3f5f"
            },
            "error_y": {
             "color": "#2a3f5f"
            },
            "marker": {
             "line": {
              "color": "#E5ECF6",
              "width": 0.5
             },
             "pattern": {
              "fillmode": "overlay",
              "size": 10,
              "solidity": 0.2
             }
            },
            "type": "bar"
           }
          ],
          "barpolar": [
           {
            "marker": {
             "line": {
              "color": "#E5ECF6",
              "width": 0.5
             },
             "pattern": {
              "fillmode": "overlay",
              "size": 10,
              "solidity": 0.2
             }
            },
            "type": "barpolar"
           }
          ],
          "carpet": [
           {
            "aaxis": {
             "endlinecolor": "#2a3f5f",
             "gridcolor": "white",
             "linecolor": "white",
             "minorgridcolor": "white",
             "startlinecolor": "#2a3f5f"
            },
            "baxis": {
             "endlinecolor": "#2a3f5f",
             "gridcolor": "white",
             "linecolor": "white",
             "minorgridcolor": "white",
             "startlinecolor": "#2a3f5f"
            },
            "type": "carpet"
           }
          ],
          "choropleth": [
           {
            "colorbar": {
             "outlinewidth": 0,
             "ticks": ""
            },
            "type": "choropleth"
           }
          ],
          "contour": [
           {
            "colorbar": {
             "outlinewidth": 0,
             "ticks": ""
            },
            "colorscale": [
             [
              0,
              "#0d0887"
             ],
             [
              0.1111111111111111,
              "#46039f"
             ],
             [
              0.2222222222222222,
              "#7201a8"
             ],
             [
              0.3333333333333333,
              "#9c179e"
             ],
             [
              0.4444444444444444,
              "#bd3786"
             ],
             [
              0.5555555555555556,
              "#d8576b"
             ],
             [
              0.6666666666666666,
              "#ed7953"
             ],
             [
              0.7777777777777778,
              "#fb9f3a"
             ],
             [
              0.8888888888888888,
              "#fdca26"
             ],
             [
              1,
              "#f0f921"
             ]
            ],
            "type": "contour"
           }
          ],
          "contourcarpet": [
           {
            "colorbar": {
             "outlinewidth": 0,
             "ticks": ""
            },
            "type": "contourcarpet"
           }
          ],
          "heatmap": [
           {
            "colorbar": {
             "outlinewidth": 0,
             "ticks": ""
            },
            "colorscale": [
             [
              0,
              "#0d0887"
             ],
             [
              0.1111111111111111,
              "#46039f"
             ],
             [
              0.2222222222222222,
              "#7201a8"
             ],
             [
              0.3333333333333333,
              "#9c179e"
             ],
             [
              0.4444444444444444,
              "#bd3786"
             ],
             [
              0.5555555555555556,
              "#d8576b"
             ],
             [
              0.6666666666666666,
              "#ed7953"
             ],
             [
              0.7777777777777778,
              "#fb9f3a"
             ],
             [
              0.8888888888888888,
              "#fdca26"
             ],
             [
              1,
              "#f0f921"
             ]
            ],
            "type": "heatmap"
           }
          ],
          "heatmapgl": [
           {
            "colorbar": {
             "outlinewidth": 0,
             "ticks": ""
            },
            "colorscale": [
             [
              0,
              "#0d0887"
             ],
             [
              0.1111111111111111,
              "#46039f"
             ],
             [
              0.2222222222222222,
              "#7201a8"
             ],
             [
              0.3333333333333333,
              "#9c179e"
             ],
             [
              0.4444444444444444,
              "#bd3786"
             ],
             [
              0.5555555555555556,
              "#d8576b"
             ],
             [
              0.6666666666666666,
              "#ed7953"
             ],
             [
              0.7777777777777778,
              "#fb9f3a"
             ],
             [
              0.8888888888888888,
              "#fdca26"
             ],
             [
              1,
              "#f0f921"
             ]
            ],
            "type": "heatmapgl"
           }
          ],
          "histogram": [
           {
            "marker": {
             "pattern": {
              "fillmode": "overlay",
              "size": 10,
              "solidity": 0.2
             }
            },
            "type": "histogram"
           }
          ],
          "histogram2d": [
           {
            "colorbar": {
             "outlinewidth": 0,
             "ticks": ""
            },
            "colorscale": [
             [
              0,
              "#0d0887"
             ],
             [
              0.1111111111111111,
              "#46039f"
             ],
             [
              0.2222222222222222,
              "#7201a8"
             ],
             [
              0.3333333333333333,
              "#9c179e"
             ],
             [
              0.4444444444444444,
              "#bd3786"
             ],
             [
              0.5555555555555556,
              "#d8576b"
             ],
             [
              0.6666666666666666,
              "#ed7953"
             ],
             [
              0.7777777777777778,
              "#fb9f3a"
             ],
             [
              0.8888888888888888,
              "#fdca26"
             ],
             [
              1,
              "#f0f921"
             ]
            ],
            "type": "histogram2d"
           }
          ],
          "histogram2dcontour": [
           {
            "colorbar": {
             "outlinewidth": 0,
             "ticks": ""
            },
            "colorscale": [
             [
              0,
              "#0d0887"
             ],
             [
              0.1111111111111111,
              "#46039f"
             ],
             [
              0.2222222222222222,
              "#7201a8"
             ],
             [
              0.3333333333333333,
              "#9c179e"
             ],
             [
              0.4444444444444444,
              "#bd3786"
             ],
             [
              0.5555555555555556,
              "#d8576b"
             ],
             [
              0.6666666666666666,
              "#ed7953"
             ],
             [
              0.7777777777777778,
              "#fb9f3a"
             ],
             [
              0.8888888888888888,
              "#fdca26"
             ],
             [
              1,
              "#f0f921"
             ]
            ],
            "type": "histogram2dcontour"
           }
          ],
          "mesh3d": [
           {
            "colorbar": {
             "outlinewidth": 0,
             "ticks": ""
            },
            "type": "mesh3d"
           }
          ],
          "parcoords": [
           {
            "line": {
             "colorbar": {
              "outlinewidth": 0,
              "ticks": ""
             }
            },
            "type": "parcoords"
           }
          ],
          "pie": [
           {
            "automargin": true,
            "type": "pie"
           }
          ],
          "scatter": [
           {
            "fillpattern": {
             "fillmode": "overlay",
             "size": 10,
             "solidity": 0.2
            },
            "type": "scatter"
           }
          ],
          "scatter3d": [
           {
            "line": {
             "colorbar": {
              "outlinewidth": 0,
              "ticks": ""
             }
            },
            "marker": {
             "colorbar": {
              "outlinewidth": 0,
              "ticks": ""
             }
            },
            "type": "scatter3d"
           }
          ],
          "scattercarpet": [
           {
            "marker": {
             "colorbar": {
              "outlinewidth": 0,
              "ticks": ""
             }
            },
            "type": "scattercarpet"
           }
          ],
          "scattergeo": [
           {
            "marker": {
             "colorbar": {
              "outlinewidth": 0,
              "ticks": ""
             }
            },
            "type": "scattergeo"
           }
          ],
          "scattergl": [
           {
            "marker": {
             "colorbar": {
              "outlinewidth": 0,
              "ticks": ""
             }
            },
            "type": "scattergl"
           }
          ],
          "scattermapbox": [
           {
            "marker": {
             "colorbar": {
              "outlinewidth": 0,
              "ticks": ""
             }
            },
            "type": "scattermapbox"
           }
          ],
          "scatterpolar": [
           {
            "marker": {
             "colorbar": {
              "outlinewidth": 0,
              "ticks": ""
             }
            },
            "type": "scatterpolar"
           }
          ],
          "scatterpolargl": [
           {
            "marker": {
             "colorbar": {
              "outlinewidth": 0,
              "ticks": ""
             }
            },
            "type": "scatterpolargl"
           }
          ],
          "scatterternary": [
           {
            "marker": {
             "colorbar": {
              "outlinewidth": 0,
              "ticks": ""
             }
            },
            "type": "scatterternary"
           }
          ],
          "surface": [
           {
            "colorbar": {
             "outlinewidth": 0,
             "ticks": ""
            },
            "colorscale": [
             [
              0,
              "#0d0887"
             ],
             [
              0.1111111111111111,
              "#46039f"
             ],
             [
              0.2222222222222222,
              "#7201a8"
             ],
             [
              0.3333333333333333,
              "#9c179e"
             ],
             [
              0.4444444444444444,
              "#bd3786"
             ],
             [
              0.5555555555555556,
              "#d8576b"
             ],
             [
              0.6666666666666666,
              "#ed7953"
             ],
             [
              0.7777777777777778,
              "#fb9f3a"
             ],
             [
              0.8888888888888888,
              "#fdca26"
             ],
             [
              1,
              "#f0f921"
             ]
            ],
            "type": "surface"
           }
          ],
          "table": [
           {
            "cells": {
             "fill": {
              "color": "#EBF0F8"
             },
             "line": {
              "color": "white"
             }
            },
            "header": {
             "fill": {
              "color": "#C8D4E3"
             },
             "line": {
              "color": "white"
             }
            },
            "type": "table"
           }
          ]
         },
         "layout": {
          "annotationdefaults": {
           "arrowcolor": "#2a3f5f",
           "arrowhead": 0,
           "arrowwidth": 1
          },
          "autotypenumbers": "strict",
          "coloraxis": {
           "colorbar": {
            "outlinewidth": 0,
            "ticks": ""
           }
          },
          "colorscale": {
           "diverging": [
            [
             0,
             "#8e0152"
            ],
            [
             0.1,
             "#c51b7d"
            ],
            [
             0.2,
             "#de77ae"
            ],
            [
             0.3,
             "#f1b6da"
            ],
            [
             0.4,
             "#fde0ef"
            ],
            [
             0.5,
             "#f7f7f7"
            ],
            [
             0.6,
             "#e6f5d0"
            ],
            [
             0.7,
             "#b8e186"
            ],
            [
             0.8,
             "#7fbc41"
            ],
            [
             0.9,
             "#4d9221"
            ],
            [
             1,
             "#276419"
            ]
           ],
           "sequential": [
            [
             0,
             "#0d0887"
            ],
            [
             0.1111111111111111,
             "#46039f"
            ],
            [
             0.2222222222222222,
             "#7201a8"
            ],
            [
             0.3333333333333333,
             "#9c179e"
            ],
            [
             0.4444444444444444,
             "#bd3786"
            ],
            [
             0.5555555555555556,
             "#d8576b"
            ],
            [
             0.6666666666666666,
             "#ed7953"
            ],
            [
             0.7777777777777778,
             "#fb9f3a"
            ],
            [
             0.8888888888888888,
             "#fdca26"
            ],
            [
             1,
             "#f0f921"
            ]
           ],
           "sequentialminus": [
            [
             0,
             "#0d0887"
            ],
            [
             0.1111111111111111,
             "#46039f"
            ],
            [
             0.2222222222222222,
             "#7201a8"
            ],
            [
             0.3333333333333333,
             "#9c179e"
            ],
            [
             0.4444444444444444,
             "#bd3786"
            ],
            [
             0.5555555555555556,
             "#d8576b"
            ],
            [
             0.6666666666666666,
             "#ed7953"
            ],
            [
             0.7777777777777778,
             "#fb9f3a"
            ],
            [
             0.8888888888888888,
             "#fdca26"
            ],
            [
             1,
             "#f0f921"
            ]
           ]
          },
          "colorway": [
           "#636efa",
           "#EF553B",
           "#00cc96",
           "#ab63fa",
           "#FFA15A",
           "#19d3f3",
           "#FF6692",
           "#B6E880",
           "#FF97FF",
           "#FECB52"
          ],
          "font": {
           "color": "#2a3f5f"
          },
          "geo": {
           "bgcolor": "white",
           "lakecolor": "white",
           "landcolor": "#E5ECF6",
           "showlakes": true,
           "showland": true,
           "subunitcolor": "white"
          },
          "hoverlabel": {
           "align": "left"
          },
          "hovermode": "closest",
          "mapbox": {
           "style": "light"
          },
          "paper_bgcolor": "white",
          "plot_bgcolor": "#E5ECF6",
          "polar": {
           "angularaxis": {
            "gridcolor": "white",
            "linecolor": "white",
            "ticks": ""
           },
           "bgcolor": "#E5ECF6",
           "radialaxis": {
            "gridcolor": "white",
            "linecolor": "white",
            "ticks": ""
           }
          },
          "scene": {
           "xaxis": {
            "backgroundcolor": "#E5ECF6",
            "gridcolor": "white",
            "gridwidth": 2,
            "linecolor": "white",
            "showbackground": true,
            "ticks": "",
            "zerolinecolor": "white"
           },
           "yaxis": {
            "backgroundcolor": "#E5ECF6",
            "gridcolor": "white",
            "gridwidth": 2,
            "linecolor": "white",
            "showbackground": true,
            "ticks": "",
            "zerolinecolor": "white"
           },
           "zaxis": {
            "backgroundcolor": "#E5ECF6",
            "gridcolor": "white",
            "gridwidth": 2,
            "linecolor": "white",
            "showbackground": true,
            "ticks": "",
            "zerolinecolor": "white"
           }
          },
          "shapedefaults": {
           "line": {
            "color": "#2a3f5f"
           }
          },
          "ternary": {
           "aaxis": {
            "gridcolor": "white",
            "linecolor": "white",
            "ticks": ""
           },
           "baxis": {
            "gridcolor": "white",
            "linecolor": "white",
            "ticks": ""
           },
           "bgcolor": "#E5ECF6",
           "caxis": {
            "gridcolor": "white",
            "linecolor": "white",
            "ticks": ""
           }
          },
          "title": {
           "x": 0.05
          },
          "xaxis": {
           "automargin": true,
           "gridcolor": "white",
           "linecolor": "white",
           "ticks": "",
           "title": {
            "standoff": 15
           },
           "zerolinecolor": "white",
           "zerolinewidth": 2
          },
          "yaxis": {
           "automargin": true,
           "gridcolor": "white",
           "linecolor": "white",
           "ticks": "",
           "title": {
            "standoff": 15
           },
           "zerolinecolor": "white",
           "zerolinewidth": 2
          }
         }
        },
        "title": {
         "text": "IsFraud Distribution: Bar Chart and Pie Chart"
        },
        "width": 1400,
        "xaxis": {
         "anchor": "y",
         "domain": [
          0,
          0.45
         ],
         "title": {
          "text": "Value"
         }
        },
        "yaxis": {
         "anchor": "x",
         "domain": [
          0,
          1
         ],
         "title": {
          "text": "Count"
         }
        }
       }
      }
     },
     "metadata": {},
     "output_type": "display_data"
    }
   ],
   "source": [
    "isFraud_count = data[\"isFraud\"].value_counts()\n",
    "\n",
    "fig = sp.make_subplots(\n",
    "    rows=1 , \n",
    "    cols=2,\n",
    "    specs=[[{\"type\":\"xy\"} , {\"type\":\"domain\"}]]\n",
    "    )\n",
    "bar_trace = go.Bar(\n",
    "    x=isFraud_count.index ,\n",
    "    y=isFraud_count.values ,\n",
    "    name=\"IsFraud Count\" ,\n",
    "    marker=dict(color=[\"blue\" , \"black\"])\n",
    ")\n",
    "fig.add_trace(bar_trace , row=1 , col=1)\n",
    "pie_trace = go.Pie(\n",
    "    labels=isFraud_count.index ,\n",
    "    values=isFraud_count.values ,\n",
    "    name=\"Pie Chart\" ,\n",
    "    marker=dict(colors=[\"blue\" ,\"black\"])\n",
    ")\n",
    "fig.add_trace(pie_trace , row=1 , col=2)\n",
    "fig.update_layout(\n",
    "    title_text=\"IsFraud Distribution: Bar Chart and Pie Chart\" ,\n",
    "    showlegend=True ,\n",
    "    height=600 ,\n",
    "    width=1400 ,\n",
    "    margin=dict(l=20 , r=20 , t=100 , b=20) ,\n",
    "    xaxis_title = \"Value\" ,\n",
    "    yaxis_title = \"Count\"\n",
    ")\n",
    "fig.show()"
   ]
  },
  {
   "cell_type": "markdown",
   "metadata": {},
   "source": [
    "<div style=\"padding: 15px; border: 2px solid #0077b6; background-color: #f9fcff; border-radius: 12px; font-family: 'Arial', sans-serif; font-size: 0.9em;\">\n",
    "    <div style=\"text-align: center; color: #003d66; font-size: 1.6em; font-weight: bold; font-family: 'Playfair Display', serif; border-bottom: 2px solid #0077b6; padding-bottom: 5px; margin-bottom: 15px;\">\n",
    "          <u>🌟Conclusion:</u>\n",
    "    </div>\n",
    "    <div style=\"text-align: left; color: #003d66; font-size: 1.1em; font-family: 'Georgia', serif;\">\n",
    "        <ul style=\"list-style-type: square; margin-left: 20px;\">\n",
    "            <li><strong></strong>This histograph clearly shows that our dataset is highly Un_Balanced.Because even in real life , the ratio between fraud transc. and normal trans are one side weighted.<br>Need to handle this , otherwise it will impact our model Training.</br></li>\n",
    "        </ul>\n",
    "    </div>\n",
    "</div>\n"
   ]
  },
  {
   "cell_type": "markdown",
   "metadata": {},
   "source": [
    "#"
   ]
  },
  {
   "cell_type": "markdown",
   "metadata": {},
   "source": [
    "<div style=\"text-align: center; color: #003366; font-size: 1.7em; font-weight: bold; border: 2px solid #003366; background-color: #d9faff; border-radius: 25px; padding: 35px; margin-bottom: 10px; position: relative; font-family: 'Lucida Handwriting', cursive;\">\n",
    "    Data Pre-Processing\n",
    "    <img src=\"https://media3.giphy.com/media/v1.Y2lkPTc5MGI3NjExOG40cDhtdmZpbDhwZjh3Zjl6OWowMmd5cmJwczhvYXExbjNyd3E4ayZlcD12MV9pbnRlcm5hbF9naWZfYnlfaWQmY3Q9Zw/bJ4TVNYNUympPgcpem/giphy.webp\" style=\"width: 200px; height: 100px; position: absolute; top: 10px; right: 100px; border-radius: 50%; object-fit: cover;\">\n",
    "</div>\n",
    "\n",
    "\n"
   ]
  },
  {
   "cell_type": "markdown",
   "metadata": {},
   "source": [
    "# [<u>***`🌟Data Pre-Processing🔄️`***</u>]()"
   ]
  },
  {
   "cell_type": "code",
   "execution_count": 26,
   "metadata": {},
   "outputs": [
    {
     "data": {
      "text/plain": [
       "step              0\n",
       "type              0\n",
       "amount            0\n",
       "nameOrig          0\n",
       "oldbalanceOrg     0\n",
       "nameDest          0\n",
       "oldbalanceDest    0\n",
       "isFraud           0\n",
       "dtype: int64"
      ]
     },
     "execution_count": 26,
     "metadata": {},
     "output_type": "execute_result"
    }
   ],
   "source": [
    "data.isnull().sum()"
   ]
  },
  {
   "cell_type": "markdown",
   "metadata": {},
   "source": [
    "<div style=\"padding: 15px; border: 2px solid #0077b6; background-color: #f9fcff; border-radius: 12px; font-family: 'Arial', sans-serif; font-size: 0.9em;\">\n",
    "    <div style=\"text-align: left; color: #003d66; font-size: 1.1em; font-family: 'Georgia', serif;\">\n",
    "        <ul style=\"list-style-type: square; margin-left: 20px;\">\n",
    "            <li><strong></strong>No null values present in Dataset</li>\n",
    "        </ul>\n",
    "    </div>\n",
    "</div>"
   ]
  },
  {
   "cell_type": "code",
   "execution_count": 27,
   "metadata": {},
   "outputs": [
    {
     "name": "stdout",
     "output_type": "stream",
     "text": [
      "<class 'pandas.core.frame.DataFrame'>\n",
      "RangeIndex: 1048575 entries, 0 to 1048574\n",
      "Data columns (total 8 columns):\n",
      " #   Column          Non-Null Count    Dtype  \n",
      "---  ------          --------------    -----  \n",
      " 0   step            1048575 non-null  int64  \n",
      " 1   type            1048575 non-null  object \n",
      " 2   amount          1048575 non-null  float64\n",
      " 3   nameOrig        1048575 non-null  object \n",
      " 4   oldbalanceOrg   1048575 non-null  float64\n",
      " 5   nameDest        1048575 non-null  object \n",
      " 6   oldbalanceDest  1048575 non-null  float64\n",
      " 7   isFraud         1048575 non-null  int64  \n",
      "dtypes: float64(3), int64(2), object(3)\n",
      "memory usage: 64.0+ MB\n"
     ]
    }
   ],
   "source": [
    "data.info()"
   ]
  },
  {
   "cell_type": "markdown",
   "metadata": {},
   "source": [
    "<div style=\"padding: 15px; border: 2px solid #0077b6; background-color: #f9fcff; border-radius: 12px; font-family: 'Arial', sans-serif; font-size: 0.9em;\">\n",
    "    <div style=\"text-align: left; color: #003d66; font-size: 1.1em; font-family: 'Georgia', serif;\">\n",
    "        <ul style=\"list-style-type: square; margin-left: 20px;\">\n",
    "            <li><strong></strong>we have 3 categorical features \"type\" , \"nameOrig\" , \"nameDest\"</li>\n",
    "        </ul>\n",
    "    </div>\n",
    "</div>"
   ]
  },
  {
   "cell_type": "code",
   "execution_count": 28,
   "metadata": {},
   "outputs": [
    {
     "data": {
      "text/plain": [
       "type\n",
       "CASH_OUT    373641\n",
       "PAYMENT     353873\n",
       "CASH_IN     227130\n",
       "TRANSFER     86753\n",
       "DEBIT         7178\n",
       "Name: count, dtype: int64"
      ]
     },
     "execution_count": 28,
     "metadata": {},
     "output_type": "execute_result"
    }
   ],
   "source": [
    "data[\"type\"].value_counts()"
   ]
  },
  {
   "cell_type": "code",
   "execution_count": 29,
   "metadata": {},
   "outputs": [
    {
     "data": {
      "text/plain": [
       "nameOrig\n",
       "C1214450722    2\n",
       "C309111136     2\n",
       "C1268675361    2\n",
       "C720460198     2\n",
       "C1109092856    2\n",
       "              ..\n",
       "C560131732     1\n",
       "C455251560     1\n",
       "C650578540     1\n",
       "C1883668225    1\n",
       "C1264356443    1\n",
       "Name: count, Length: 1048317, dtype: int64"
      ]
     },
     "execution_count": 29,
     "metadata": {},
     "output_type": "execute_result"
    }
   ],
   "source": [
    "data[\"nameOrig\"].value_counts()"
   ]
  },
  {
   "cell_type": "code",
   "execution_count": 30,
   "metadata": {},
   "outputs": [
    {
     "data": {
      "text/plain": [
       "nameDest\n",
       "C985934102     98\n",
       "C1286084959    96\n",
       "C1590550415    89\n",
       "C248609774     88\n",
       "C665576141     87\n",
       "               ..\n",
       "M382871047      1\n",
       "M322765556      1\n",
       "M1118794441     1\n",
       "M1127250627     1\n",
       "M677577406      1\n",
       "Name: count, Length: 449635, dtype: int64"
      ]
     },
     "execution_count": 30,
     "metadata": {},
     "output_type": "execute_result"
    }
   ],
   "source": [
    "data[\"nameDest\"].value_counts()"
   ]
  },
  {
   "cell_type": "markdown",
   "metadata": {},
   "source": [
    "<div style=\"padding: 15px; border: 2px solid #0077b6; background-color: #f9fcff; border-radius: 12px; font-family: 'Arial', sans-serif; font-size: 0.9em;\">\n",
    "    <div style=\"text-align: left; color: #003d66; font-size: 1.1em; font-family: 'Georgia', serif;\">\n",
    "        <ul style=\"list-style-type: square; margin-left: 20px;\">\n",
    "            <li><strong><u>🌟Conclusion:</u></strong></li>\n",
    "            <li><strong></strong>1. we have 4 unique values in \"type\" feature,and \"nameOrig\" and \"nameDest\" contain more unique values</li>\n",
    "            <li><strong></strong>2. most of the data inside \"nameOrig\" and \"nameDest\" are unique ( approx 90% and 60% ), means it will be not useful for model training . Thus, good option is to remove them. and even their are just Account names.</li>\n",
    "        </ul>\n",
    "    </div>\n",
    "</div>"
   ]
  },
  {
   "cell_type": "code",
   "execution_count": 31,
   "metadata": {},
   "outputs": [],
   "source": [
    "data = data.drop([\"nameOrig\" , \"nameDest\"] , axis=1)"
   ]
  },
  {
   "cell_type": "markdown",
   "metadata": {},
   "source": [
    "* # [`Label Encoder:-`]()"
   ]
  },
  {
   "cell_type": "code",
   "execution_count": 32,
   "metadata": {},
   "outputs": [
    {
     "data": {
      "text/plain": [
       "array(['PAYMENT', 'TRANSFER', 'CASH_OUT', 'DEBIT', 'CASH_IN'],\n",
       "      dtype=object)"
      ]
     },
     "execution_count": 32,
     "metadata": {},
     "output_type": "execute_result"
    }
   ],
   "source": [
    "data['type'].unique()"
   ]
  },
  {
   "cell_type": "code",
   "execution_count": 33,
   "metadata": {},
   "outputs": [],
   "source": [
    "from sklearn.preprocessing import LabelEncoder\n",
    "le = LabelEncoder()\n",
    "data['type'] = le.fit_transform(data['type'])"
   ]
  },
  {
   "cell_type": "code",
   "execution_count": 34,
   "metadata": {},
   "outputs": [
    {
     "data": {
      "text/plain": [
       "array([3, 4, 1, 2, 0])"
      ]
     },
     "execution_count": 34,
     "metadata": {},
     "output_type": "execute_result"
    }
   ],
   "source": [
    "data['type'].unique()"
   ]
  },
  {
   "cell_type": "markdown",
   "metadata": {},
   "source": [
    "* # [ <u> `Handling Un-Balanced Data:-` </u>]()"
   ]
  },
  {
   "cell_type": "code",
   "execution_count": 35,
   "metadata": {},
   "outputs": [
    {
     "data": {
      "text/plain": [
       "{0: 0.5005451422668562, 1: 459.09588441331}"
      ]
     },
     "execution_count": 35,
     "metadata": {},
     "output_type": "execute_result"
    }
   ],
   "source": [
    "from sklearn.utils.class_weight import compute_class_weight\n",
    "\n",
    "class_weights = compute_class_weight('balanced', classes=np.array([0, 1]), y=data[\"isFraud\"])\n",
    "class_weight_dict = {0: class_weights[0], 1: class_weights[1]}\n",
    "\n",
    "class_weight_dict"
   ]
  },
  {
   "cell_type": "markdown",
   "metadata": {},
   "source": [
    "<div style=\"padding: 15px; border: 2px solid #0077b6; background-color: #f9fcff; border-radius: 12px; font-family: 'Arial', sans-serif; font-size: 0.9em;\">\n",
    "    <div style=\"text-align: left; color: #003d66; font-size: 1.1em; font-family: 'Georgia', serif;\">\n",
    "        <ul style=\"list-style-type: square; margin-left: 20px;\">\n",
    "            <li><strong><u>🌟Conclusion:</u></strong></li>\n",
    "            <li><strong>The `compute_class_weight` function helps address class imbalance in fraud detection datasets by assigning more importance to the minority class.</strong></li>\n",
    "            <li><strong>The calculated weights for class 0 (non-fraud) and class 1 (fraud) are stored in `class_weight_dict`.</strong></li>\n",
    "            <li><strong>Class 0 has a weight of <code>{class_weight_dict[0]:.2f}</code>, while class 1 has a higher weight of <code>{class_weight_dict[1]:.2f}</code>.</strong></li>\n",
    "            <li><strong>These weights ensure that the model focuses more on identifying fraudulent transactions.</strong></li>\n",
    "        </ul>\n",
    "    </div>\n",
    "</div>\n"
   ]
  },
  {
   "cell_type": "markdown",
   "metadata": {},
   "source": [
    "* # [<u>`Train-Test Split:-`</u>]()"
   ]
  },
  {
   "cell_type": "code",
   "execution_count": 36,
   "metadata": {},
   "outputs": [],
   "source": [
    "x = data.drop([\"isFraud\"] , axis=1)\n",
    "y = data[\"isFraud\"]"
   ]
  },
  {
   "cell_type": "code",
   "execution_count": 37,
   "metadata": {},
   "outputs": [
    {
     "data": {
      "text/html": [
       "<div>\n",
       "<style scoped>\n",
       "    .dataframe tbody tr th:only-of-type {\n",
       "        vertical-align: middle;\n",
       "    }\n",
       "\n",
       "    .dataframe tbody tr th {\n",
       "        vertical-align: top;\n",
       "    }\n",
       "\n",
       "    .dataframe thead th {\n",
       "        text-align: right;\n",
       "    }\n",
       "</style>\n",
       "<table border=\"1\" class=\"dataframe\">\n",
       "  <thead>\n",
       "    <tr style=\"text-align: right;\">\n",
       "      <th></th>\n",
       "      <th>step</th>\n",
       "      <th>type</th>\n",
       "      <th>amount</th>\n",
       "      <th>oldbalanceOrg</th>\n",
       "      <th>oldbalanceDest</th>\n",
       "    </tr>\n",
       "  </thead>\n",
       "  <tbody>\n",
       "    <tr>\n",
       "      <th>0</th>\n",
       "      <td>1</td>\n",
       "      <td>3</td>\n",
       "      <td>9839.64</td>\n",
       "      <td>170136.00</td>\n",
       "      <td>0.00</td>\n",
       "    </tr>\n",
       "    <tr>\n",
       "      <th>1</th>\n",
       "      <td>1</td>\n",
       "      <td>3</td>\n",
       "      <td>1864.28</td>\n",
       "      <td>21249.00</td>\n",
       "      <td>0.00</td>\n",
       "    </tr>\n",
       "    <tr>\n",
       "      <th>2</th>\n",
       "      <td>1</td>\n",
       "      <td>4</td>\n",
       "      <td>181.00</td>\n",
       "      <td>181.00</td>\n",
       "      <td>0.00</td>\n",
       "    </tr>\n",
       "    <tr>\n",
       "      <th>3</th>\n",
       "      <td>1</td>\n",
       "      <td>1</td>\n",
       "      <td>181.00</td>\n",
       "      <td>181.00</td>\n",
       "      <td>21182.00</td>\n",
       "    </tr>\n",
       "    <tr>\n",
       "      <th>4</th>\n",
       "      <td>1</td>\n",
       "      <td>3</td>\n",
       "      <td>11668.14</td>\n",
       "      <td>41554.00</td>\n",
       "      <td>0.00</td>\n",
       "    </tr>\n",
       "    <tr>\n",
       "      <th>...</th>\n",
       "      <td>...</td>\n",
       "      <td>...</td>\n",
       "      <td>...</td>\n",
       "      <td>...</td>\n",
       "      <td>...</td>\n",
       "    </tr>\n",
       "    <tr>\n",
       "      <th>1048570</th>\n",
       "      <td>95</td>\n",
       "      <td>1</td>\n",
       "      <td>132557.35</td>\n",
       "      <td>479803.00</td>\n",
       "      <td>484329.37</td>\n",
       "    </tr>\n",
       "    <tr>\n",
       "      <th>1048571</th>\n",
       "      <td>95</td>\n",
       "      <td>3</td>\n",
       "      <td>9917.36</td>\n",
       "      <td>90545.00</td>\n",
       "      <td>0.00</td>\n",
       "    </tr>\n",
       "    <tr>\n",
       "      <th>1048572</th>\n",
       "      <td>95</td>\n",
       "      <td>3</td>\n",
       "      <td>14140.05</td>\n",
       "      <td>20545.00</td>\n",
       "      <td>0.00</td>\n",
       "    </tr>\n",
       "    <tr>\n",
       "      <th>1048573</th>\n",
       "      <td>95</td>\n",
       "      <td>3</td>\n",
       "      <td>10020.05</td>\n",
       "      <td>90605.00</td>\n",
       "      <td>0.00</td>\n",
       "    </tr>\n",
       "    <tr>\n",
       "      <th>1048574</th>\n",
       "      <td>95</td>\n",
       "      <td>3</td>\n",
       "      <td>11450.03</td>\n",
       "      <td>80584.95</td>\n",
       "      <td>0.00</td>\n",
       "    </tr>\n",
       "  </tbody>\n",
       "</table>\n",
       "<p>1048575 rows × 5 columns</p>\n",
       "</div>"
      ],
      "text/plain": [
       "         step  type     amount  oldbalanceOrg  oldbalanceDest\n",
       "0           1     3    9839.64      170136.00            0.00\n",
       "1           1     3    1864.28       21249.00            0.00\n",
       "2           1     4     181.00         181.00            0.00\n",
       "3           1     1     181.00         181.00        21182.00\n",
       "4           1     3   11668.14       41554.00            0.00\n",
       "...       ...   ...        ...            ...             ...\n",
       "1048570    95     1  132557.35      479803.00       484329.37\n",
       "1048571    95     3    9917.36       90545.00            0.00\n",
       "1048572    95     3   14140.05       20545.00            0.00\n",
       "1048573    95     3   10020.05       90605.00            0.00\n",
       "1048574    95     3   11450.03       80584.95            0.00\n",
       "\n",
       "[1048575 rows x 5 columns]"
      ]
     },
     "execution_count": 37,
     "metadata": {},
     "output_type": "execute_result"
    }
   ],
   "source": [
    "x"
   ]
  },
  {
   "cell_type": "code",
   "execution_count": 38,
   "metadata": {},
   "outputs": [
    {
     "data": {
      "text/plain": [
       "Index(['step', 'type', 'amount', 'oldbalanceOrg', 'oldbalanceDest'], dtype='object')"
      ]
     },
     "execution_count": 38,
     "metadata": {},
     "output_type": "execute_result"
    }
   ],
   "source": [
    "x.columns"
   ]
  },
  {
   "cell_type": "code",
   "execution_count": 39,
   "metadata": {},
   "outputs": [
    {
     "data": {
      "text/plain": [
       "0          0\n",
       "1          0\n",
       "2          1\n",
       "3          1\n",
       "4          0\n",
       "          ..\n",
       "1048570    0\n",
       "1048571    0\n",
       "1048572    0\n",
       "1048573    0\n",
       "1048574    0\n",
       "Name: isFraud, Length: 1048575, dtype: int64"
      ]
     },
     "execution_count": 39,
     "metadata": {},
     "output_type": "execute_result"
    }
   ],
   "source": [
    "y"
   ]
  },
  {
   "cell_type": "code",
   "execution_count": 40,
   "metadata": {},
   "outputs": [],
   "source": [
    "from sklearn.preprocessing import MinMaxScaler\n",
    "scaler = MinMaxScaler()\n",
    "x = scaler.fit_transform(x)"
   ]
  },
  {
   "cell_type": "code",
   "execution_count": 41,
   "metadata": {},
   "outputs": [],
   "source": [
    "# pd.DataFrame(x , columns=['step', 'type', 'amount', 'oldbalanceOrg', 'oldbalanceDest'])"
   ]
  },
  {
   "cell_type": "code",
   "execution_count": 42,
   "metadata": {},
   "outputs": [],
   "source": [
    "# pd.DataFrame(x)"
   ]
  },
  {
   "cell_type": "code",
   "execution_count": 43,
   "metadata": {},
   "outputs": [],
   "source": [
    "from sklearn.model_selection import train_test_split\n",
    "x_train, x_test, y_train, y_test = train_test_split(x, y, test_size=0.2, random_state=42)"
   ]
  },
  {
   "cell_type": "markdown",
   "metadata": {},
   "source": [
    "#"
   ]
  },
  {
   "cell_type": "markdown",
   "metadata": {},
   "source": [
    "<div style=\"text-align: center; color: #003366; font-size: 1.7em; font-weight: bold; border: 2px solid #003366; background-color: #d9faff; border-radius: 25px; padding: 35px; margin-bottom: 10px; position: relative; font-family: 'Lucida Handwriting', cursive;\">\n",
    "    Build Models🤖🤖\n",
    "    <img src=\"https://media0.giphy.com/media/v1.Y2lkPTc5MGI3NjExeGxjNzJiejJyZjNob3ZkODF4aXM0a2g4ZnZyeDNnYTJvdGt5aTZzYSZlcD12MV9pbnRlcm5hbF9naWZfYnlfaWQmY3Q9Zw/V4NSR1NG2p0KeJJyr5/giphy.webp\" style=\"width: 200px; height: 100px; position: absolute; top: 10px; right: 50px; border-radius: 50%; object-fit: cover;\">\n",
    "</div>\n"
   ]
  },
  {
   "cell_type": "markdown",
   "metadata": {},
   "source": [
    "# [<u>`🌟Build Models🤖🤖`</u>]()"
   ]
  },
  {
   "cell_type": "markdown",
   "metadata": {},
   "source": [
    "* ## [<u>`Import Models`</u>]()"
   ]
  },
  {
   "cell_type": "code",
   "execution_count": 44,
   "metadata": {},
   "outputs": [],
   "source": [
    "from sklearn.linear_model import LogisticRegression\n",
    "from sklearn.svm import SVC\n",
    "from sklearn.tree import DecisionTreeClassifier\n",
    "from sklearn.ensemble import RandomForestClassifier\n",
    "\n",
    "from sklearn.metrics import accuracy_score , recall_score , f1_score , precision_score ,confusion_matrix , classification_report\n"
   ]
  },
  {
   "cell_type": "code",
   "execution_count": 45,
   "metadata": {},
   "outputs": [],
   "source": [
    "model_1 = LogisticRegression()\n",
    "model_2 = SVC()\n",
    "model_3 = DecisionTreeClassifier()\n",
    "model_4 = RandomForestClassifier()"
   ]
  },
  {
   "cell_type": "code",
   "execution_count": 46,
   "metadata": {},
   "outputs": [],
   "source": [
    "models = [\"LogisticRegression\" , \"SVC\" , \"DecisionTreeClassifier\" , \"RandomForestClassifier\"]\n",
    "result_1 = []\n",
    "result_2 = []\n",
    "result_3 = []\n",
    "result_4 = []"
   ]
  },
  {
   "cell_type": "code",
   "execution_count": 47,
   "metadata": {},
   "outputs": [],
   "source": [
    "def Model (model) :\n",
    "\n",
    "    model.fit(x_train , y_train)\n",
    "    y_pred = model.predict(x_test)\n",
    "    accuracy = accuracy_score(y_pred , y_test)\n",
    "    recall = recall_score(y_pred , y_test)\n",
    "    f1 = f1_score(y_pred , y_test)\n",
    "    precision = precision_score(y_pred , y_test)\n",
    "    classification_rep = classification_report(y_pred , y_test)\n",
    "\n",
    "    result_1.append(accuracy)\n",
    "    result_2.append(recall)\n",
    "    result_3.append(f1)\n",
    "    result_4.append(precision)\n",
    "\n",
    "    plt.figure(figsize=(20,5))\n",
    "    sns.heatmap(confusion_matrix(y_pred , y_test) , annot=True , cmap=\"YlGnBu\")\n",
    "    print(\"The Model: \" , model)\n",
    "    print(\"Accuracy Score Is:\" , accuracy)\n",
    "    print(\"Recall Score Is:\" , recall)\n",
    "    print(\"F1 Score Is:\", f1) \n",
    "    print(\"Precision Score Is:\" , precision)\n",
    "    print(\"Classification Report Is:\\n\" , classification_rep)\n",
    "    plt.show()"
   ]
  },
  {
   "cell_type": "markdown",
   "metadata": {},
   "source": [
    "### [<u>`🎆Model_1:- LogisticRegression Model`</u>]()"
   ]
  },
  {
   "cell_type": "code",
   "execution_count": 48,
   "metadata": {},
   "outputs": [
    {
     "name": "stdout",
     "output_type": "stream",
     "text": [
      "The Model:  LogisticRegression()\n",
      "Accuracy Score Is: 0.9989652623798966\n",
      "Recall Score Is: 1.0\n",
      "F1 Score Is: 0.06060606060606061\n",
      "Precision Score Is: 0.03125\n",
      "Classification Report Is:\n",
      "               precision    recall  f1-score   support\n",
      "\n",
      "           0       1.00      1.00      1.00    209708\n",
      "           1       0.03      1.00      0.06         7\n",
      "\n",
      "    accuracy                           1.00    209715\n",
      "   macro avg       0.52      1.00      0.53    209715\n",
      "weighted avg       1.00      1.00      1.00    209715\n",
      "\n"
     ]
    },
    {
     "data": {
      "image/png": "[encoded data removed]",
      "text/plain": [
       "<Figure size 2000x500 with 2 Axes>"
      ]
     },
     "metadata": {},
     "output_type": "display_data"
    }
   ],
   "source": [
    "Model(model_1)"
   ]
  },
  {
   "cell_type": "markdown",
   "metadata": {},
   "source": [
    "### [<u>`🎆Model_2:- SVC Model`</u>]()"
   ]
  },
  {
   "cell_type": "code",
   "execution_count": 49,
   "metadata": {},
   "outputs": [],
   "source": [
    "Model(model_2)"
   ]
  },
  {
   "cell_type": "markdown",
   "metadata": {},
   "source": [
    "### [<u>`🎆Model_3:- DecisionTreeClassifier Model`</u>]()"
   ]
  },
  {
   "cell_type": "code",
   "execution_count": 50,
   "metadata": {},
   "outputs": [
    {
     "name": "stdout",
     "output_type": "stream",
     "text": [
      "The Model:  DecisionTreeClassifier()\n",
      "Accuracy Score Is: 0.9993562692225163\n",
      "Recall Score Is: 0.6909871244635193\n",
      "F1 Score Is: 0.7045951859956237\n",
      "Precision Score Is: 0.71875\n",
      "Classification Report Is:\n",
      "               precision    recall  f1-score   support\n",
      "\n",
      "           0       1.00      1.00      1.00    209482\n",
      "           1       0.72      0.69      0.70       233\n",
      "\n",
      "    accuracy                           1.00    209715\n",
      "   macro avg       0.86      0.85      0.85    209715\n",
      "weighted avg       1.00      1.00      1.00    209715\n",
      "\n"
     ]
    },
    {
     "data": {
      "image/png": "[encoded data removed]",
      "text/plain": [
       "<Figure size 2000x500 with 2 Axes>"
      ]
     },
     "metadata": {},
     "output_type": "display_data"
    }
   ],
   "source": [
    "Model(model_3)"
   ]
  },
  {
   "cell_type": "markdown",
   "metadata": {},
   "source": [
    "### [<u>`🎆Model_4:- RandomForestClassifier Model`</u>]()"
   ]
  },
  {
   "cell_type": "code",
   "execution_count": 51,
   "metadata": {},
   "outputs": [
    {
     "name": "stdout",
     "output_type": "stream",
     "text": [
      "The Model:  RandomForestClassifier()\n",
      "Accuracy Score Is: 0.9996662136709343\n",
      "Recall Score Is: 0.9753086419753086\n",
      "F1 Score Is: 0.8186528497409327\n",
      "Precision Score Is: 0.7053571428571429\n",
      "Classification Report Is:\n",
      "               precision    recall  f1-score   support\n",
      "\n",
      "           0       1.00      1.00      1.00    209553\n",
      "           1       0.71      0.98      0.82       162\n",
      "\n",
      "    accuracy                           1.00    209715\n",
      "   macro avg       0.85      0.99      0.91    209715\n",
      "weighted avg       1.00      1.00      1.00    209715\n",
      "\n"
     ]
    },
    {
     "data": {
      "image/png": "[encoded data removed]",
      "text/plain": [
       "<Figure size 2000x500 with 2 Axes>"
      ]
     },
     "metadata": {},
     "output_type": "display_data"
    }
   ],
   "source": [
    "Model(model_4)"
   ]
  },
  {
   "cell_type": "code",
   "execution_count": 52,
   "metadata": {},
   "outputs": [
    {
     "data": {
      "text/html": [
       "<style type=\"text/css\">\n",
       "#T_f1305_row0_col1, #T_f1305_row0_col3, #T_f1305_row0_col4, #T_f1305_row2_col2 {\n",
       "  background-color: #ffffcc;\n",
       "  color: #000000;\n",
       "}\n",
       "#T_f1305_row0_col2, #T_f1305_row1_col2, #T_f1305_row2_col4, #T_f1305_row3_col1, #T_f1305_row3_col3 {\n",
       "  background-color: #800026;\n",
       "  color: #f1f1f1;\n",
       "}\n",
       "#T_f1305_row1_col1 {\n",
       "  background-color: #fc512b;\n",
       "  color: #f1f1f1;\n",
       "}\n",
       "#T_f1305_row1_col3 {\n",
       "  background-color: #e8241f;\n",
       "  color: #f1f1f1;\n",
       "}\n",
       "#T_f1305_row1_col4 {\n",
       "  background-color: #fc5f2f;\n",
       "  color: #f1f1f1;\n",
       "}\n",
       "#T_f1305_row2_col1 {\n",
       "  background-color: #fd7034;\n",
       "  color: #f1f1f1;\n",
       "}\n",
       "#T_f1305_row2_col3 {\n",
       "  background-color: #c40524;\n",
       "  color: #f1f1f1;\n",
       "}\n",
       "#T_f1305_row3_col2 {\n",
       "  background-color: #a60026;\n",
       "  color: #f1f1f1;\n",
       "}\n",
       "#T_f1305_row3_col4 {\n",
       "  background-color: #880026;\n",
       "  color: #f1f1f1;\n",
       "}\n",
       "</style>\n",
       "<table id=\"T_f1305\">\n",
       "  <thead>\n",
       "    <tr>\n",
       "      <th class=\"blank level0\" >&nbsp;</th>\n",
       "      <th id=\"T_f1305_level0_col0\" class=\"col_heading level0 col0\" >Algorithms</th>\n",
       "      <th id=\"T_f1305_level0_col1\" class=\"col_heading level0 col1\" >Accuracies</th>\n",
       "      <th id=\"T_f1305_level0_col2\" class=\"col_heading level0 col2\" >Recall Score</th>\n",
       "      <th id=\"T_f1305_level0_col3\" class=\"col_heading level0 col3\" >F1 Score</th>\n",
       "      <th id=\"T_f1305_level0_col4\" class=\"col_heading level0 col4\" >Precision Score</th>\n",
       "    </tr>\n",
       "  </thead>\n",
       "  <tbody>\n",
       "    <tr>\n",
       "      <th id=\"T_f1305_level0_row0\" class=\"row_heading level0 row0\" >0</th>\n",
       "      <td id=\"T_f1305_row0_col0\" class=\"data row0 col0\" >LogisticRegression</td>\n",
       "      <td id=\"T_f1305_row0_col1\" class=\"data row0 col1\" >0.998965</td>\n",
       "      <td id=\"T_f1305_row0_col2\" class=\"data row0 col2\" >1.000000</td>\n",
       "      <td id=\"T_f1305_row0_col3\" class=\"data row0 col3\" >0.060606</td>\n",
       "      <td id=\"T_f1305_row0_col4\" class=\"data row0 col4\" >0.031250</td>\n",
       "    </tr>\n",
       "    <tr>\n",
       "      <th id=\"T_f1305_level0_row1\" class=\"row_heading level0 row1\" >1</th>\n",
       "      <td id=\"T_f1305_row1_col0\" class=\"data row1 col0\" >SVC</td>\n",
       "      <td id=\"T_f1305_row1_col1\" class=\"data row1 col1\" >0.999399</td>\n",
       "      <td id=\"T_f1305_row1_col2\" class=\"data row1 col2\" >1.000000</td>\n",
       "      <td id=\"T_f1305_row1_col3\" class=\"data row1 col3\" >0.608696</td>\n",
       "      <td id=\"T_f1305_row1_col4\" class=\"data row1 col4\" >0.437500</td>\n",
       "    </tr>\n",
       "    <tr>\n",
       "      <th id=\"T_f1305_level0_row2\" class=\"row_heading level0 row2\" >2</th>\n",
       "      <td id=\"T_f1305_row2_col0\" class=\"data row2 col0\" >DecisionTreeClassifier</td>\n",
       "      <td id=\"T_f1305_row2_col1\" class=\"data row2 col1\" >0.999356</td>\n",
       "      <td id=\"T_f1305_row2_col2\" class=\"data row2 col2\" >0.690987</td>\n",
       "      <td id=\"T_f1305_row2_col3\" class=\"data row2 col3\" >0.704595</td>\n",
       "      <td id=\"T_f1305_row2_col4\" class=\"data row2 col4\" >0.718750</td>\n",
       "    </tr>\n",
       "    <tr>\n",
       "      <th id=\"T_f1305_level0_row3\" class=\"row_heading level0 row3\" >3</th>\n",
       "      <td id=\"T_f1305_row3_col0\" class=\"data row3 col0\" >RandomForestClassifier</td>\n",
       "      <td id=\"T_f1305_row3_col1\" class=\"data row3 col1\" >0.999666</td>\n",
       "      <td id=\"T_f1305_row3_col2\" class=\"data row3 col2\" >0.975309</td>\n",
       "      <td id=\"T_f1305_row3_col3\" class=\"data row3 col3\" >0.818653</td>\n",
       "      <td id=\"T_f1305_row3_col4\" class=\"data row3 col4\" >0.705357</td>\n",
       "    </tr>\n",
       "  </tbody>\n",
       "</table>\n"
      ],
      "text/plain": [
       "<pandas.io.formats.style.Styler at 0x2a69741a540>"
      ]
     },
     "execution_count": 52,
     "metadata": {},
     "output_type": "execute_result"
    }
   ],
   "source": [
    "final_result = pd.DataFrame({\"Algorithms\":models , \"Accuracies\":result_1 , \"Recall Score\":result_2 , \"F1 Score\":result_3 , \"Precision Score\":result_4})\n",
    "final_result.style.background_gradient(cmap=\"YlOrRd\", axis=0)"
   ]
  },
  {
   "cell_type": "code",
   "execution_count": 53,
   "metadata": {},
   "outputs": [
    {
     "data": {
      "image/png": "[encoded data removed]",
      "text/plain": [
       "<Figure size 2000x500 with 1 Axes>"
      ]
     },
     "metadata": {},
     "output_type": "display_data"
    }
   ],
   "source": [
    "fig ,ax = plt.subplots(figsize=(20,5))\n",
    "plt.plot(final_result.Algorithms , result_1 , label=\"Accuracies\" )\n",
    "plt.plot(final_result.Algorithms , result_2 , label=\"Recall Score\" )\n",
    "plt.plot(final_result.Algorithms , result_3 , label=\"F1 Score\" )\n",
    "plt.plot(final_result.Algorithms , result_4 , label=\"Precision Score\" )\n",
    "plt.legend()\n",
    "plt.show()"
   ]
  },
  {
   "cell_type": "markdown",
   "metadata": {},
   "source": [
    "<div style=\"padding: 15px; border: 2px solid #0077b6; background-color: #f9fcff; border-radius: 12px; font-family: 'Arial', sans-serif; font-size: 0.9em;\">\n",
    "    <div style=\"text-align: left; color: #003d66; font-size: 1.1em; font-family: 'Georgia', serif;\">\n",
    "        <ul style=\"list-style-type: square; margin-left: 20px;\">\n",
    "            <li><strong><u>🌟Final Conclusion:</u></strong></li>\n",
    "            <li><strong></strong>1) There is no missing or duplicate values in this dataset. </li>\n",
    "            <li><strong></strong>2) Having outliers, but it is not good idea to remove them,\n",
    "becuase higher values of amount and account balance having\n",
    "higher porbability to denote fraud transactions.</li>\n",
    "            <li><strong></strong>3) some columns having multi_collinearity, thus\n",
    "removed one of them.</li>\n",
    "            <li><strong></strong>4) \"amount\" , \"isFlaggedFraud\" are key features, they impact the Fraud prediction.\n",
    "means , we need to focused on large transcation,\n",
    "and condition where \"amount\"==\"oldbalanceOrig\"</li>\n",
    "            <li><strong></strong>5) Best option is to deploy this model on Cloud server,\n",
    "and automate this ml model using cloud services.</li>\n",
    "            <li><strong>6) Model Performanc:</strong><code>{Random Forest}</code> had the highest accuracy among tested models.</li>\n",
    "        </ul>\n",
    "    </div>\n",
    "</div>\n",
    "\n",
    "\n",
    "\n"
   ]
  },
  {
   "cell_type": "markdown",
   "metadata": {},
   "source": [
    "#"
   ]
  },
  {
   "cell_type": "markdown",
   "metadata": {},
   "source": [
    "<div style=\"text-align: center; color: #003366; font-size: 1.7em; font-weight: bold; border: 2px solid #003366; background-color: #d9faff; border-radius: 25px; padding: 35px; margin-bottom: 10px; position: relative; font-family: 'Lucida Handwriting', cursive;\">\n",
    "    Deployment Project🌗🌗\n",
    "    <img src=\"https://media3.giphy.com/media/v1.Y2lkPTc5MGI3NjExOG40cDhtdmZpbDhwZjh3Zjl6OWowMmd5cmJwczhvYXExbjNyd3E4ayZlcD12MV9pbnRlcm5hbF9naWZfYnlfaWQmY3Q9Zw/bJ4TVNYNUympPgcpem/giphy.webp\" style=\"width: 200px; height: 100px; position: absolute; top: 10px; right: 100px; border-radius: 50%; object-fit: cover;\">\n",
    "</div>\n",
    "\n",
    "\n"
   ]
  },
  {
   "cell_type": "markdown",
   "metadata": {},
   "source": [
    "# [<u>`🌟Deployment The Project:-`</u>]()"
   ]
  },
  {
   "cell_type": "markdown",
   "metadata": {},
   "source": [
    "* ## [`☀️Save The Model:-`]()"
   ]
  },
  {
   "cell_type": "code",
   "execution_count": 54,
   "metadata": {},
   "outputs": [],
   "source": [
    "import pickle\n",
    "filename = \"Fraud_Detection.sav\"\n",
    "pickle.dump(model_4 , open(filename,\"wb\"))"
   ]
  },
  {
   "cell_type": "code",
   "execution_count": 55,
   "metadata": {},
   "outputs": [],
   "source": [
    "pickle.dump(scaler,open('scaler.sav','wb'))"
   ]
  },
  {
   "cell_type": "markdown",
   "metadata": {},
   "source": [
    "### [Run App](#) - Click the button below to run the Streamlit app\n"
   ]
  },
  {
   "cell_type": "code",
   "execution_count": 56,
   "metadata": {},
   "outputs": [],
   "source": [
    "# !pip install ipywidgets"
   ]
  },
  {
   "cell_type": "code",
   "execution_count": 57,
   "metadata": {},
   "outputs": [
    {
     "data": {
      "text/markdown": [
       "### [Run App](#) - Click the button below to run the Streamlit app"
      ],
      "text/plain": [
       "<IPython.core.display.Markdown object>"
      ]
     },
     "metadata": {},
     "output_type": "display_data"
    },
    {
     "data": {
      "application/vnd.jupyter.widget-view+json": {
       "model_id": "a381e4cca1c1471bbed68f6df138a637",
       "version_major": 2,
       "version_minor": 0
      },
      "text/plain": [
       "Button(description='Run app.py', style=ButtonStyle())"
      ]
     },
     "metadata": {},
     "output_type": "display_data"
    }
   ],
   "source": [
    "import ipywidgets as widgets\n",
    "from IPython.display import display, Markdown\n",
    "import subprocess\n",
    "\n",
    "# Function to run the app.py\n",
    "def run_app(button):\n",
    "    subprocess.run([\"streamlit\", \"run\", \"app.py\"])\n",
    "\n",
    "# Create a button widget\n",
    "button = widgets.Button(description=\"Run app.py\")\n",
    "\n",
    "# Assign the function to be executed on button click\n",
    "button.on_click(run_app)\n",
    "\n",
    "# Display the markdown and button\n",
    "display(Markdown(\"### [Run App](#) - Click the button below to run the Streamlit app\"))\n",
    "display(button)\n"
   ]
  },
  {
   "cell_type": "code",
   "execution_count": null,
   "metadata": {},
   "outputs": [],
   "source": []
  }
 ],
 "metadata": {
  "kernelspec": {
   "display_name": "Python 3",
   "language": "python",
   "name": "python3"
  },
  "language_info": {
   "codemirror_mode": {
    "name": "ipython",
    "version": 3
   },
   "file_extension": ".py",
   "mimetype": "text/x-python",
   "name": "python",
   "nbconvert_exporter": "python",
   "pygments_lexer": "ipython3",
   "version": "3.12.2"
  }
 },
 "nbformat": 4,
 "nbformat_minor": 2
}
